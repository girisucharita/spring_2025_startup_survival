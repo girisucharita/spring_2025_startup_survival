{
  "cells": [
    {
      "cell_type": "markdown",
      "metadata": {},
      "source": [
        "# Feature Engineering\n",
        "Create new features that might be predictive of success, such as company age, time to first funding, funding per year, geographic features, and text-based features from descriptions. This step enhances the predictive power of our models."
      ]
    },
    {
      "cell_type": "code",
      "execution_count": 1,
      "metadata": {},
      "outputs": [
        {
          "name": "stdout",
          "output_type": "stream",
          "text": [
            "NLTK not found. Installing NLTK...\n",
            "Collecting nltk\n",
            "  Downloading nltk-3.9.1-py3-none-any.whl.metadata (2.9 kB)\n",
            "Collecting click (from nltk)\n",
            "  Downloading click-8.1.8-py3-none-any.whl.metadata (2.3 kB)\n",
            "Requirement already satisfied: joblib in /opt/anaconda3/envs/erdos_spring_2025/lib/python3.12/site-packages (from nltk) (1.4.2)\n",
            "Collecting regex>=2021.8.3 (from nltk)\n",
            "  Downloading regex-2024.11.6-cp312-cp312-macosx_10_13_x86_64.whl.metadata (40 kB)\n",
            "Collecting tqdm (from nltk)\n",
            "  Downloading tqdm-4.67.1-py3-none-any.whl.metadata (57 kB)\n",
            "Downloading nltk-3.9.1-py3-none-any.whl (1.5 MB)\n",
            "\u001b[2K   \u001b[90m━━━━━━━━━━━━━━━━━━━━━━━━━━━━━━━━━━━━━━━━\u001b[0m \u001b[32m1.5/1.5 MB\u001b[0m \u001b[31m6.1 MB/s\u001b[0m eta \u001b[36m0:00:00\u001b[0ma \u001b[36m0:00:01\u001b[0m\n",
            "\u001b[?25hDownloading regex-2024.11.6-cp312-cp312-macosx_10_13_x86_64.whl (288 kB)\n",
            "Downloading click-8.1.8-py3-none-any.whl (98 kB)\n",
            "Downloading tqdm-4.67.1-py3-none-any.whl (78 kB)\n",
            "Installing collected packages: tqdm, regex, click, nltk\n",
            "Successfully installed click-8.1.8 nltk-3.9.1 regex-2024.11.6 tqdm-4.67.1\n",
            "NLTK installed successfully.\n",
            "Starting feature engineering process...\n"
          ]
        }
      ],
      "source": [
        "# Import necessary libraries\n",
        "import pandas as pd\n",
        "import numpy as np\n",
        "import matplotlib.pyplot as plt\n",
        "import seaborn as sns\n",
        "from datetime import datetime\n",
        "import re\n",
        "from collections import Counter\n",
        "\n",
        "# Try to import nltk, and install it if not available\n",
        "try:\n",
        "    import nltk\n",
        "    from nltk.corpus import stopwords\n",
        "except ModuleNotFoundError:\n",
        "    print(\"NLTK not found. Installing NLTK...\")\n",
        "    import sys\n",
        "    import subprocess\n",
        "    subprocess.check_call([sys.executable, \"-m\", \"pip\", \"install\", \"nltk\"])\n",
        "    import nltk\n",
        "    from nltk.corpus import stopwords\n",
        "    print(\"NLTK installed successfully.\")\n",
        "\n",
        "import warnings\n",
        "warnings.filterwarnings('ignore')\n",
        "\n",
        "# Set display options for better readability\n",
        "pd.set_option('display.max_columns', None)\n",
        "pd.set_option('display.max_rows', 100)\n",
        "pd.set_option('display.width', 1000)\n",
        "\n",
        "print(\"Starting feature engineering process...\")"
      ]
    },
    {
      "cell_type": "code",
      "execution_count": 2,
      "metadata": {},
      "outputs": [
        {
          "name": "stdout",
          "output_type": "stream",
          "text": [
            "Dataset shape: (196553, 44)\n",
            "Number of companies: 196553\n",
            "Number of features: 44\n",
            "\n",
            "Top 10 columns with most missing values:\n",
            "last_funding_at       165046\n",
            "first_funding_at      165046\n",
            "twitter_username      115962\n",
            "tag_list              115101\n",
            "lng                   112701\n",
            "lat                   112701\n",
            "age_years             105326\n",
            "founded_at            105326\n",
            "first_milestone_at    104854\n",
            "last_milestone_at     104854\n",
            "dtype: int64\n"
          ]
        }
      ],
      "source": [
        "# Load the cleaned companies dataset\n",
        "df = pd.read_csv('cleaned_companies.csv')\n",
        "\n",
        "# Display basic information about the dataset\n",
        "print(f\"Dataset shape: {df.shape}\")\n",
        "print(f\"Number of companies: {df.shape[0]}\")\n",
        "print(f\"Number of features: {df.shape[1]}\")\n",
        "\n",
        "# Check for missing values\n",
        "missing_values = df.isnull().sum()\n",
        "print(\"\\nTop 10 columns with most missing values:\")\n",
        "print(missing_values.sort_values(ascending=False).head(10))"
      ]
    },
    {
      "cell_type": "code",
      "execution_count": 3,
      "metadata": {},
      "outputs": [
        {
          "name": "stdout",
          "output_type": "stream",
          "text": [
            "Date columns converted to datetime format\n"
          ]
        }
      ],
      "source": [
        "# Convert date columns to datetime\n",
        "date_columns = ['founded_at', 'first_funding_at', 'last_funding_at', \n",
        "                'first_milestone_at', 'last_milestone_at', 'created_at', 'updated_at']\n",
        "\n",
        "for col in date_columns:\n",
        "    if col in df.columns:\n",
        "        df[col] = pd.to_datetime(df[col], errors='coerce')\n",
        "\n",
        "print(\"Date columns converted to datetime format\")"
      ]
    },
    {
      "cell_type": "code",
      "execution_count": 4,
      "metadata": {},
      "outputs": [
        {
          "name": "stdout",
          "output_type": "stream",
          "text": [
            "Reference date for time calculations: 2013-12-12 14:28:31\n"
          ]
        }
      ],
      "source": [
        "# Create a reference date for calculating time-based features\n",
        "# Using the latest date in the dataset as reference\n",
        "reference_date = df['updated_at'].max()\n",
        "print(f\"Reference date for time calculations: {reference_date}\")"
      ]
    },
    {
      "cell_type": "code",
      "execution_count": 5,
      "metadata": {},
      "outputs": [
        {
          "name": "stdout",
          "output_type": "stream",
          "text": [
            "\n",
            "Creating temporal features...\n",
            "Temporal features created\n"
          ]
        }
      ],
      "source": [
        "# 1. Temporal Features\n",
        "print(\"\\nCreating temporal features...\")\n",
        "\n",
        "# Time to first funding (days) - from founding date to first funding\n",
        "df['days_to_first_funding'] = (df['first_funding_at'] - df['founded_at']).dt.days\n",
        "\n",
        "# Funding duration (days) - from first to last funding\n",
        "df['funding_duration_days'] = (df['last_funding_at'] - df['first_funding_at']).dt.days\n",
        "\n",
        "# Company age at first funding (years)\n",
        "df['age_at_first_funding_years'] = df['days_to_first_funding'] / 365.25\n",
        "\n",
        "# Time between creation in database and first funding (might indicate visibility)\n",
        "df['days_from_creation_to_funding'] = (df['first_funding_at'] - df['created_at']).dt.days\n",
        "\n",
        "# Milestone frequency (milestones per year of existence)\n",
        "df['milestone_frequency'] = df['milestones'] / df['age_years'].replace(0, np.nan)\n",
        "\n",
        "# Time between milestones\n",
        "df['days_between_milestones'] = (df['last_milestone_at'] - df['first_milestone_at']).dt.days / df['milestones'].replace(0, np.nan)\n",
        "\n",
        "# Company lifespan (for companies that have closed)\n",
        "# We'll use the reference date for companies still operating\n",
        "df['lifespan_days'] = np.where(\n",
        "    pd.notnull(df['founded_at']),\n",
        "    (reference_date - df['founded_at']).dt.days,\n",
        "    np.nan\n",
        ")\n",
        "\n",
        "print(\"Temporal features created\")"
      ]
    },
    {
      "cell_type": "code",
      "execution_count": 6,
      "metadata": {},
      "outputs": [
        {
          "name": "stdout",
          "output_type": "stream",
          "text": [
            "\n",
            "Creating financial features...\n",
            "Financial features created\n"
          ]
        }
      ],
      "source": [
        "# 2. Financial Features\n",
        "print(\"\\nCreating financial features...\")\n",
        "\n",
        "# Funding per year (funding velocity)\n",
        "df['funding_per_year'] = df['funding_total_usd'] / df['age_years'].replace(0, np.nan)\n",
        "\n",
        "# Average funding per round\n",
        "df['avg_funding_per_round'] = df['funding_total_usd'] / df['funding_rounds'].replace(0, np.nan)\n",
        "\n",
        "# Funding rounds per year\n",
        "df['funding_rounds_per_year'] = df['funding_rounds'] / df['age_years'].replace(0, np.nan)\n",
        "\n",
        "# Funding efficiency (relationships per $1M funding)\n",
        "df['relationships_per_million'] = df['relationships'] / (df['funding_total_usd'] / 1000000).replace(0, np.nan)\n",
        "\n",
        "# Binary indicator for having received funding\n",
        "df['has_received_funding'] = np.where(df['funding_total_usd'] > 0, 1, 0)\n",
        "\n",
        "# Funding size categories\n",
        "funding_bins = [0, 100000, 1000000, 10000000, 50000000, float('inf')]\n",
        "funding_labels = ['No Funding', 'Seed (<100K)', 'Early (<1M)', 'Growth (<10M)', 'Established (>10M)']\n",
        "df['funding_category'] = pd.cut(df['funding_total_usd'], bins=funding_bins, labels=funding_labels)\n",
        "\n",
        "print(\"Financial features created\")"
      ]
    },
    {
      "cell_type": "code",
      "execution_count": 7,
      "metadata": {},
      "outputs": [
        {
          "name": "stdout",
          "output_type": "stream",
          "text": [
            "\n",
            "Creating geographic features...\n",
            "Geographic features created\n"
          ]
        }
      ],
      "source": [
        "# 3. Geographic Features\n",
        "print(\"\\nCreating geographic features...\")\n",
        "\n",
        "# Create a feature for major tech hubs\n",
        "tech_hub_cities = ['San Francisco', 'New York', 'Boston', 'Seattle', 'Austin', 'Los Angeles', \n",
        "                   'Chicago', 'London', 'Berlin', 'Tel Aviv', 'Beijing', 'Shanghai', 'Tokyo', \n",
        "                   'Bangalore', 'Singapore']\n",
        "tech_hub_regions = ['SF Bay', 'NYC', 'Boston', 'Seattle', 'Austin', 'LA', \n",
        "                    'Chicago', 'London', 'Berlin', 'Tel Aviv', 'Beijing', 'Shanghai', 'Tokyo', \n",
        "                    'Bangalore', 'Singapore']\n",
        "\n",
        "df['is_in_tech_hub_city'] = df['city'].isin(tech_hub_cities).astype(int)\n",
        "df['is_in_tech_hub_region'] = df['region'].isin(tech_hub_regions).astype(int)\n",
        "\n",
        "# Create a feature for US-based companies\n",
        "df['is_us_based'] = (df['country_code'] == 'USA').astype(int)\n",
        "\n",
        "# Create a feature for major US tech states\n",
        "tech_states = ['CA', 'NY', 'MA', 'WA', 'TX']\n",
        "df['is_in_tech_state'] = ((df['country_code'] == 'USA') & (df['state_code'].isin(tech_states))).astype(int)\n",
        "\n",
        "# Create region groups based on continent/major economic regions\n",
        "def assign_region_group(country):\n",
        "    if pd.isna(country) or country == 'UNKNOWN':\n",
        "        return 'Unknown'\n",
        "    elif country in ['USA', 'CAN']:\n",
        "        return 'North America'\n",
        "    elif country in ['GBR', 'DEU', 'FRA', 'ESP', 'ITA', 'NLD', 'CHE', 'SWE', 'DNK', 'NOR', 'FIN', 'BEL', 'AUT', 'IRL', 'PRT', 'GRC']:\n",
        "        return 'Western Europe'\n",
        "    elif country in ['RUS', 'POL', 'CZE', 'HUN', 'UKR', 'ROU', 'BGR', 'SVK', 'HRV', 'SRB', 'LTU', 'LVA', 'EST']:\n",
        "        return 'Eastern Europe'\n",
        "    elif country in ['CHN', 'JPN', 'KOR', 'TWN', 'HKG', 'SGP']:\n",
        "        return 'East Asia'\n",
        "    elif country in ['IND', 'PAK', 'BGD', 'LKA', 'NPL']:\n",
        "        return 'South Asia'\n",
        "    elif country in ['AUS', 'NZL']:\n",
        "        return 'Oceania'\n",
        "    elif country in ['BRA', 'MEX', 'ARG', 'COL', 'CHL', 'PER', 'VEN']:\n",
        "        return 'Latin America'\n",
        "    elif country in ['ISR', 'SAU', 'ARE', 'TUR', 'EGY', 'IRN', 'IRQ', 'QAT', 'KWT', 'JOR', 'LBN']:\n",
        "        return 'Middle East & North Africa'\n",
        "    elif country in ['ZAF', 'NGA', 'KEN', 'GHA', 'TZA', 'UGA', 'ETH', 'EGY', 'MAR', 'TUN']:\n",
        "        return 'Africa'\n",
        "    else:\n",
        "        return 'Other'\n",
        "\n",
        "df['region_group'] = df['country_code'].apply(assign_region_group)\n",
        "\n",
        "print(\"Geographic features created\")"
      ]
    },
    {
      "cell_type": "code",
      "execution_count": 8,
      "metadata": {},
      "outputs": [
        {
          "name": "stdout",
          "output_type": "stream",
          "text": [
            "\n",
            "Creating category and industry features...\n",
            "Category and industry features created\n"
          ]
        }
      ],
      "source": [
        "# 4. Category and Industry Features\n",
        "print(\"\\nCreating category and industry features...\")\n",
        "\n",
        "# Create high-level industry groups\n",
        "tech_categories = ['web', 'software', 'mobile', 'enterprise', 'analytics', 'security', \n",
        "                  'search', 'messaging', 'semiconductor', 'hardware', 'network_hosting']\n",
        "media_categories = ['games_video', 'video', 'music', 'entertainment', 'photo_video', 'news', 'sports']\n",
        "commerce_categories = ['ecommerce', 'advertising', 'fashion', 'travel', 'real_estate', 'local', 'hospitality']\n",
        "finance_categories = ['finance', 'payments', 'bitcoin']\n",
        "health_categories = ['health', 'medical', 'biotech']\n",
        "\n",
        "df['is_tech'] = df['category_code'].isin(tech_categories).astype(int)\n",
        "df['is_media'] = df['category_code'].isin(media_categories).astype(int)\n",
        "df['is_commerce'] = df['category_code'].isin(commerce_categories).astype(int)\n",
        "df['is_finance'] = df['category_code'].isin(finance_categories).astype(int)\n",
        "df['is_health'] = df['category_code'].isin(health_categories).astype(int)\n",
        "\n",
        "# Create a feature for B2B vs B2C\n",
        "b2b_categories = ['enterprise', 'analytics', 'security', 'network_hosting', 'semiconductor', \n",
        "                 'advertising', 'payments', 'medical']\n",
        "b2c_categories = ['games_video', 'music', 'entertainment', 'ecommerce', 'fashion', 'travel', \n",
        "                 'hospitality', 'sports']\n",
        "\n",
        "df['is_b2b'] = df['category_code'].isin(b2b_categories).astype(int)\n",
        "df['is_b2c'] = df['category_code'].isin(b2c_categories).astype(int)\n",
        "\n",
        "# Create a feature for companies with multiple category indicators (might indicate diversification)\n",
        "category_count = df[['is_tech', 'is_media', 'is_commerce', 'is_finance', 'is_health']].sum(axis=1)\n",
        "df['category_diversity'] = category_count\n",
        "\n",
        "print(\"Category and industry features created\")"
      ]
    },
    {
      "cell_type": "code",
      "execution_count": 9,
      "metadata": {},
      "outputs": [
        {
          "name": "stdout",
          "output_type": "stream",
          "text": [
            "\n",
            "Creating text-based features...\n",
            "Counting keywords in text fields...\n"
          ]
        },
        {
          "name": "stderr",
          "output_type": "stream",
          "text": [
            "[nltk_data] Downloading package stopwords to\n",
            "[nltk_data]     /Users/aminosaurier/nltk_data...\n",
            "[nltk_data]   Unzipping corpora/stopwords.zip.\n"
          ]
        },
        {
          "name": "stdout",
          "output_type": "stream",
          "text": [
            "Text-based features created\n"
          ]
        }
      ],
      "source": [
        "# 5. Text-based Features\n",
        "print(\"\\nCreating text-based features...\")\n",
        "\n",
        "# Download NLTK resources if not already available\n",
        "try:\n",
        "    nltk.data.find('corpora/stopwords')\n",
        "except LookupError:\n",
        "    nltk.download('stopwords')\n",
        "\n",
        "stop_words = set(stopwords.words('english'))\n",
        "\n",
        "# Function to count specific keywords in text\n",
        "def count_keywords(text, keyword_list):\n",
        "    if pd.isna(text):\n",
        "        return 0\n",
        "\n",
        "    # Convert to lowercase and split into words\n",
        "    words = re.findall(r'\\b\\w+\\b', text.lower())\n",
        "\n",
        "    # Remove stop words\n",
        "    words = [word for word in words if word not in stop_words]\n",
        "\n",
        "    # Count occurrences of keywords\n",
        "    count = sum(1 for word in words if word in keyword_list)\n",
        "\n",
        "    return count\n",
        "\n",
        "# Keywords that might indicate innovation or technical sophistication\n",
        "tech_keywords = ['ai', 'artificial', 'intelligence', 'machine', 'learning', 'blockchain', \n",
        "                'algorithm', 'cloud', 'platform', 'saas', 'api', 'automation', 'data', \n",
        "                'analytics', 'predictive', 'innovative', 'technology', 'solution']\n",
        "\n",
        "# Keywords that might indicate market focus\n",
        "market_keywords = ['market', 'customer', 'user', 'client', 'consumer', 'audience', \n",
        "                  'segment', 'target', 'demographic', 'need', 'demand', 'solution']\n",
        "\n",
        "# Keywords that might indicate business model clarity\n",
        "business_keywords = ['revenue', 'monetize', 'business', 'model', 'profit', 'subscription', \n",
        "                    'freemium', 'premium', 'enterprise', 'license', 'service', 'product']\n",
        "\n",
        "# Apply keyword counting to description and overview\n",
        "print(\"Counting keywords in text fields...\")\n",
        "df['tech_keyword_count'] = df['overview'].apply(lambda x: count_keywords(x, tech_keywords))\n",
        "df['market_keyword_count'] = df['overview'].apply(lambda x: count_keywords(x, market_keywords))\n",
        "df['business_keyword_count'] = df['overview'].apply(lambda x: count_keywords(x, business_keywords))\n",
        "\n",
        "# Create a feature for description length (might indicate thoroughness)\n",
        "df['description_length'] = df['description'].fillna('').apply(len)\n",
        "df['overview_length'] = df['overview'].fillna('').apply(len)\n",
        "\n",
        "# Create a feature for tag count (might indicate better categorization)\n",
        "df['tag_count'] = df['tag_list'].fillna('').apply(lambda x: len(x.split(',')) if ',' in x else 0)\n",
        "\n",
        "print(\"Text-based features created\")"
      ]
    },
    {
      "cell_type": "code",
      "execution_count": 10,
      "metadata": {},
      "outputs": [
        {
          "name": "stdout",
          "output_type": "stream",
          "text": [
            "\n",
            "Creating network and social features...\n",
            "Network and social features created\n"
          ]
        }
      ],
      "source": [
        "# 6. Network and Social Features\n",
        "print(\"\\nCreating network and social features...\")\n",
        "\n",
        "# Binary indicator for having a Twitter account\n",
        "df['has_twitter'] = df['twitter_username'].notna().astype(int)\n",
        "\n",
        "# Binary indicator for having a website\n",
        "df['has_website'] = df['homepage_url'].notna().astype(int)\n",
        "\n",
        "# Relationship density (relationships per year of existence)\n",
        "df['relationship_density'] = df['relationships'] / df['age_years'].replace(0, np.nan)\n",
        "\n",
        "# Create a feature for companies with high relationship counts\n",
        "relationship_threshold = df['relationships'].quantile(0.75)\n",
        "df['has_strong_network'] = (df['relationships'] > relationship_threshold).astype(int)\n",
        "\n",
        "print(\"Network and social features created\")"
      ]
    },
    {
      "cell_type": "code",
      "execution_count": 11,
      "metadata": {},
      "outputs": [
        {
          "name": "stdout",
          "output_type": "stream",
          "text": [
            "\n",
            "Creating composite and interaction features...\n",
            "Composite and interaction features created\n"
          ]
        }
      ],
      "source": [
        "# 7. Composite and Interaction Features\n",
        "print(\"\\nCreating composite and interaction features...\")\n",
        "\n",
        "# Interaction between funding and age (young companies with high funding might be promising)\n",
        "df['funding_age_ratio'] = df['funding_total_usd'] / (df['age_years'] + 1)  # Adding 1 to avoid division by zero\n",
        "\n",
        "# Interaction between category and location (tech companies in tech hubs might perform differently)\n",
        "df['tech_in_hub'] = df['is_tech'] * df['is_in_tech_hub_city']\n",
        "\n",
        "# Interaction between funding rounds and total funding (efficiency of fundraising)\n",
        "df['funding_efficiency'] = df['funding_total_usd'] / (df['funding_rounds'] + 0.1)  # Adding 0.1 to avoid division by zero\n",
        "\n",
        "# Milestone to age ratio (achievement pace)\n",
        "df['milestone_to_age_ratio'] = df['milestones'] / (df['age_years'] + 0.1)  # Adding 0.1 to avoid division by zero\n",
        "\n",
        "# Composite score for online presence\n",
        "df['online_presence_score'] = df['has_twitter'] + df['has_website']\n",
        "\n",
        "# Composite score for text quality (combination of length and keyword metrics)\n",
        "df['text_quality_score'] = (\n",
        "    (df['description_length'] > 0).astype(int) + \n",
        "    (df['overview_length'] > 0).astype(int) + \n",
        "    (df['tech_keyword_count'] > 0).astype(int) + \n",
        "    (df['market_keyword_count'] > 0).astype(int) + \n",
        "    (df['business_keyword_count'] > 0).astype(int)\n",
        ")\n",
        "\n",
        "print(\"Composite and interaction features created\")"
      ]
    },
    {
      "cell_type": "code",
      "execution_count": 12,
      "metadata": {},
      "outputs": [
        {
          "name": "stdout",
          "output_type": "stream",
          "text": [
            "\n",
            "Handling missing values in new features...\n",
            "Missing values handled\n"
          ]
        }
      ],
      "source": [
        "# 8. Handle missing values in the newly created features\n",
        "print(\"\\nHandling missing values in new features...\")\n",
        "\n",
        "# For numeric features, fill NaN with 0 or median depending on the feature\n",
        "numeric_features = df.select_dtypes(include=['float64', 'int64']).columns\n",
        "\n",
        "# Features where 0 makes sense as a default (absence of something)\n",
        "zero_default_features = [\n",
        "    'days_to_first_funding', 'funding_duration_days', 'age_at_first_funding_years',\n",
        "    'days_from_creation_to_funding', 'milestone_frequency', 'days_between_milestones',\n",
        "    'funding_per_year', 'avg_funding_per_round', 'funding_rounds_per_year',\n",
        "    'relationships_per_million', 'tech_keyword_count', 'market_keyword_count',\n",
        "    'business_keyword_count', 'tag_count'\n",
        "]\n",
        "\n",
        "# Fill appropriate features with 0\n",
        "for feature in zero_default_features:\n",
        "    if feature in df.columns:\n",
        "        df[feature] = df[feature].fillna(0)\n",
        "\n",
        "# For other numeric features, use median\n",
        "for feature in numeric_features:\n",
        "    if feature not in zero_default_features and feature in df.columns:\n",
        "        if feature not in ['lat', 'lng']:  # Skip geographic coordinates\n",
        "            df[feature] = df[feature].fillna(df[feature].median())\n",
        "\n",
        "# For categorical features, fill with the most common value\n",
        "categorical_features = df.select_dtypes(include=['object']).columns\n",
        "for feature in categorical_features:\n",
        "    if feature in df.columns and feature not in ['id', 'name', 'normalized_name', 'permalink']:\n",
        "        df[feature] = df[feature].fillna(df[feature].mode()[0])\n",
        "\n",
        "print(\"Missing values handled\")"
      ]
    },
    {
      "cell_type": "code",
      "execution_count": 13,
      "metadata": {},
      "outputs": [
        {
          "name": "stdout",
          "output_type": "stream",
          "text": [
            "\n",
            "Handling extreme values...\n",
            "Extreme values handled\n"
          ]
        }
      ],
      "source": [
        "# 9. Check for and handle extreme values/outliers\n",
        "print(\"\\nHandling extreme values...\")\n",
        "\n",
        "# List of numeric features to check for outliers\n",
        "numeric_features_to_check = [\n",
        "    'funding_total_usd', 'funding_per_year', 'avg_funding_per_round',\n",
        "    'days_to_first_funding', 'funding_duration_days', 'relationships_per_million'\n",
        "]\n",
        "\n",
        "# Cap extreme values at the 99th percentile\n",
        "for feature in numeric_features_to_check:\n",
        "    if feature in df.columns:\n",
        "        cap_value = df[feature].quantile(0.99)\n",
        "        df[feature] = df[feature].clip(upper=cap_value)\n",
        "\n",
        "print(\"Extreme values handled\")"
      ]
    },
    {
      "cell_type": "code",
      "execution_count": 14,
      "metadata": {},
      "outputs": [
        {
          "name": "stdout",
          "output_type": "stream",
          "text": [
            "\n",
            "Saving engineered features dataset...\n",
            "Dataset with engineered features saved to 'engineered_features.csv'\n"
          ]
        }
      ],
      "source": [
        "# 10. Save the engineered features dataset\n",
        "print(\"\\nSaving engineered features dataset...\")\n",
        "\n",
        "# Save to CSV\n",
        "df.to_csv('engineered_features.csv', index=False)\n",
        "print(\"Dataset with engineered features saved to 'engineered_features.csv'\")"
      ]
    },
    {
      "cell_type": "code",
      "execution_count": 15,
      "metadata": {},
      "outputs": [
        {
          "name": "stdout",
          "output_type": "stream",
          "text": [
            "\n",
            "Creating feature engineering report...\n",
            "Feature engineering report created and saved to 'feature_engineering_report.md'\n"
          ]
        }
      ],
      "source": [
        "# 11. Create a feature engineering report\n",
        "print(\"\\nCreating feature engineering report...\")\n",
        "\n",
        "# Get list of original features and new features\n",
        "original_features = pd.read_csv('cleaned_companies.csv').columns.tolist()\n",
        "all_features = df.columns.tolist()\n",
        "new_features = [f for f in all_features if f not in original_features]\n",
        "\n",
        "# Create a report\n",
        "report = \"# Feature Engineering Report\\n\\n\"\n",
        "report += f\"## Overview\\n\\n\"\n",
        "report += f\"* Original dataset: {len(original_features)} features\\n\"\n",
        "report += f\"* Engineered dataset: {len(all_features)} features\\n\"\n",
        "report += f\"* New features created: {len(new_features)}\\n\\n\"\n",
        "\n",
        "report += \"## Categories of Engineered Features\\n\\n\"\n",
        "\n",
        "report += \"### 1. Temporal Features\\n\\n\"\n",
        "temporal_features = [\n",
        "    'days_to_first_funding', 'funding_duration_days', 'age_at_first_funding_years',\n",
        "    'days_from_creation_to_funding', 'milestone_frequency', 'days_between_milestones',\n",
        "    'lifespan_days'\n",
        "]\n",
        "report += \"These features capture time-related aspects of a company's development:\\n\\n\"\n",
        "for feature in temporal_features:\n",
        "    if feature in new_features:\n",
        "        report += f\"* **{feature}**: \"\n",
        "        if feature == 'days_to_first_funding':\n",
        "            report += \"Number of days between company founding and first funding round. Indicates how quickly a company can attract investment.\\n\"\n",
        "        elif feature == 'funding_duration_days':\n",
        "            report += \"Duration between first and last funding rounds in days. Indicates the length of the fundraising journey.\\n\"\n",
        "        elif feature == 'age_at_first_funding_years':\n",
        "            report += \"Company age (in years) when it received its first funding. Indicates how long it took to become investment-ready.\\n\"\n",
        "        elif feature == 'days_from_creation_to_funding':\n",
        "            report += \"Days between company's creation in the database and first funding. May indicate visibility or market awareness.\\n\"\n",
        "        elif feature == 'milestone_frequency':\n",
        "            report += \"Number of milestones achieved per year of existence. Indicates pace of notable achievements.\\n\"\n",
        "        elif feature == 'days_between_milestones':\n",
        "            report += \"Average days between consecutive milestones. Indicates consistency of progress.\\n\"\n",
        "        elif feature == 'lifespan_days':\n",
        "            report += \"Total days the company has existed (until reference date or closing). Indicates longevity.\\n\"\n",
        "\n",
        "report += \"\\n### 2. Financial Features\\n\\n\"\n",
        "financial_features = [\n",
        "    'funding_per_year', 'avg_funding_per_round', 'funding_rounds_per_year',\n",
        "    'relationships_per_million', 'has_received_funding', 'funding_category'\n",
        "]\n",
        "report += \"These features capture financial aspects and funding patterns:\\n\\n\"\n",
        "for feature in financial_features:\n",
        "    if feature in new_features:\n",
        "        report += f\"* **{feature}**: \"\n",
        "        if feature == 'funding_per_year':\n",
        "            report += \"Total funding divided by company age. Indicates funding velocity or capital efficiency.\\n\"\n",
        "        elif feature == 'avg_funding_per_round':\n",
        "            report += \"Average amount raised per funding round. Indicates typical round size.\\n\"\n",
        "        elif feature == 'funding_rounds_per_year':\n",
        "            report += \"Number of funding rounds per year of existence. Indicates fundraising frequency.\\n\"\n",
        "        elif feature == 'relationships_per_million':\n",
        "            report += \"Number of relationships per million dollars raised. Indicates network efficiency relative to funding.\\n\"\n",
        "        elif feature == 'has_received_funding':\n",
        "            report += \"Binary indicator of whether the company has received any funding.\\n\"\n",
        "        elif feature == 'funding_category':\n",
        "            report += \"Categorical grouping of funding amounts (No Funding, Seed, Early, Growth, Established).\\n\"\n",
        "\n",
        "report += \"\\n### 3. Geographic Features\\n\\n\"\n",
        "geographic_features = [\n",
        "    'is_in_tech_hub_city', 'is_in_tech_hub_region', 'is_us_based',\n",
        "    'is_in_tech_state', 'region_group'\n",
        "]\n",
        "report += \"These features capture location-based aspects that might influence success:\\n\\n\"\n",
        "for feature in geographic_features:\n",
        "    if feature in new_features:\n",
        "        report += f\"* **{feature}**: \"\n",
        "        if feature == 'is_in_tech_hub_city':\n",
        "            report += \"Binary indicator of whether the company is located in a major tech hub city.\\n\"\n",
        "        elif feature == 'is_in_tech_hub_region':\n",
        "            report += \"Binary indicator of whether the company is located in a major tech hub region.\\n\"\n",
        "        elif feature == 'is_us_based':\n",
        "            report += \"Binary indicator of whether the company is based in the United States.\\n\"\n",
        "        elif feature == 'is_in_tech_state':\n",
        "            report += \"Binary indicator of whether the company is in a major US tech state (CA, NY, MA, WA, TX).\\n\"\n",
        "        elif feature == 'region_group':\n",
        "            report += \"Categorical grouping of countries into major economic/geographic regions.\\n\"\n",
        "\n",
        "report += \"\\n### 4. Category and Industry Features\\n\\n\"\n",
        "category_features = [\n",
        "    'is_tech', 'is_media', 'is_commerce', 'is_finance', 'is_health',\n",
        "    'is_b2b', 'is_b2c', 'category_diversity'\n",
        "]\n",
        "report += \"These features capture industry and business model characteristics:\\n\\n\"\n",
        "for feature in category_features:\n",
        "    if feature in new_features:\n",
        "        report += f\"* **{feature}**: \"\n",
        "        if feature == 'is_tech':\n",
        "            report += \"Binary indicator of whether the company is in a technology category.\\n\"\n",
        "        elif feature == 'is_media':\n",
        "            report += \"Binary indicator of whether the company is in a media-related category.\\n\"\n",
        "        elif feature == 'is_commerce':\n",
        "            report += \"Binary indicator of whether the company is in a commerce-related category.\\n\"\n",
        "        elif feature == 'is_finance':\n",
        "            report += \"Binary indicator of whether the company is in a finance-related category.\\n\"\n",
        "        elif feature == 'is_health':\n",
        "            report += \"Binary indicator of whether the company is in a health-related category.\\n\"\n",
        "        elif feature == 'is_b2b':\n",
        "            report += \"Binary indicator of whether the company has a business-to-business model.\\n\"\n",
        "        elif feature == 'is_b2c':\n",
        "            report += \"Binary indicator of whether the company has a business-to-consumer model.\\n\"\n",
        "        elif feature == 'category_diversity':\n",
        "            report += \"Count of different category types the company spans. Indicates diversification.\\n\"\n",
        "\n",
        "report += \"\\n### 5. Text-based Features\\n\\n\"\n",
        "text_features = [\n",
        "    'tech_keyword_count', 'market_keyword_count', 'business_keyword_count',\n",
        "    'description_length', 'overview_length', 'tag_count'\n",
        "]\n",
        "report += \"These features are derived from textual data and may indicate quality of company description or focus:\\n\\n\"\n",
        "for feature in text_features:\n",
        "    if feature in new_features:\n",
        "        report += f\"* **{feature}**: \"\n",
        "        if feature == 'tech_keyword_count':\n",
        "            report += \"Count of technology-related keywords in the company overview. Indicates technical focus.\\n\"\n",
        "        elif feature == 'market_keyword_count':\n",
        "            report += \"Count of market-related keywords in the company overview. Indicates market focus.\\n\"\n",
        "        elif feature == 'business_keyword_count':\n",
        "            report += \"Count of business model-related keywords in the company overview. Indicates business model clarity.\\n\"\n",
        "        elif feature == 'description_length':\n",
        "            report += \"Length of the company description. May indicate thoroughness of information.\\n\"\n",
        "        elif feature == 'overview_length':\n",
        "            report += \"Length of the company overview. May indicate thoroughness of information.\\n\"\n",
        "        elif feature == 'tag_count':\n",
        "            report += \"Number of tags associated with the company. Indicates breadth of categorization.\\n\"\n",
        "\n",
        "report += \"\\n### 6. Network and Social Features\\n\\n\"\n",
        "network_features = [\n",
        "    'has_twitter', 'has_website', 'relationship_density', 'has_strong_network'\n",
        "]\n",
        "report += \"These features capture the company's online presence and network:\\n\\n\"\n",
        "for feature in network_features:\n",
        "    if feature in new_features:\n",
        "        report += f\"* **{feature}**: \"\n",
        "        if feature == 'has_twitter':\n",
        "            report += \"Binary indicator of whether the company has a Twitter account.\\n\"\n",
        "        elif feature == 'has_website':\n",
        "            report += \"Binary indicator of whether the company has a website.\\n\"\n",
        "        elif feature == 'relationship_density':\n",
        "            report += \"Number of relationships per year of existence. Indicates networking pace.\\n\"\n",
        "        elif feature == 'has_strong_network':\n",
        "            report += \"Binary indicator of whether the company has an above-average number of relationships.\\n\"\n",
        "\n",
        "report += \"\\n### 7. Composite and Interaction Features\\n\\n\"\n",
        "composite_features = [\n",
        "    'funding_age_ratio', 'tech_in_hub', 'funding_efficiency',\n",
        "    'milestone_to_age_ratio', 'online_presence_score', 'text_quality_score'\n",
        "]\n",
        "report += \"These features combine multiple aspects to capture complex patterns:\\n\\n\"\n",
        "for feature in composite_features:\n",
        "    if feature in new_features:\n",
        "        report += f\"* **{feature}**: \"\n",
        "        if feature == 'funding_age_ratio':\n",
        "            report += \"Ratio of total funding to company age. Indicates funding efficiency over time.\\n\"\n",
        "        elif feature == 'tech_in_hub':\n",
        "            report += \"Interaction between being a tech company and being in a tech hub. Captures potential synergies.\\n\"\n",
        "        elif feature == 'funding_efficiency':\n",
        "            report += \"Amount of funding raised per funding round. Indicates fundraising efficiency.\\n\"\n",
        "        elif feature == 'milestone_to_age_ratio':\n",
        "            report += \"Ratio of milestones to company age. Indicates achievement pace.\\n\"\n",
        "        elif feature == 'online_presence_score':\n",
        "            report += \"Composite score of online presence indicators (Twitter, website). Indicates digital footprint.\\n\"\n",
        "        elif feature == 'text_quality_score':\n",
        "            report += \"Composite score based on text length and keyword presence. Indicates quality of company description.\\n\"\n",
        "\n",
        "report += \"\\n## Rationale and Expected Impact\\n\\n\"\n",
        "report += \"The engineered features aim to capture various dimensions that might predict startup success:\\n\\n\"\n",
        "report += \"1. **Speed and Efficiency**: Features like days_to_first_funding, funding_per_year, and milestone_frequency capture how quickly a company can achieve important milestones.\\n\\n\"\n",
        "report += \"2. **Location Advantage**: Geographic features identify companies in established tech ecosystems that might benefit from network effects, talent pools, and investor proximity.\\n\\n\"\n",
        "report += \"3. **Industry Trends**: Category-based features help identify which sectors have higher success rates.\\n\\n\"\n",
        "report += \"4. **Network Effects**: Relationship-based features capture the company's connections, which can be crucial for partnerships, hiring, and fundraising.\\n\\n\"\n",
        "report += \"5. **Communication Quality**: Text-based features may indicate how well a company can articulate its value proposition.\\n\\n\"\n",
        "report += \"6. **Funding Patterns**: Financial features capture not just the amount of funding but patterns that might indicate investor confidence.\\n\\n\"\n",
        "report += \"7. **Composite Indicators**: Interaction features capture complex relationships between multiple factors that might collectively influence success.\\n\\n\"\n",
        "\n",
        "report += \"These engineered features significantly expand the predictive power of the dataset by transforming raw data into meaningful indicators that align with business intuition about startup success factors.\"\n",
        "\n",
        "# Write the report to a file\n",
        "with open('feature_engineering_report.md', 'w') as f:\n",
        "    f.write(report)\n",
        "\n",
        "print(\"Feature engineering report created and saved to 'feature_engineering_report.md'\")"
      ]
    },
    {
      "cell_type": "code",
      "execution_count": 16,
      "metadata": {},
      "outputs": [
        {
          "name": "stdout",
          "output_type": "stream",
          "text": [
            "\n",
            "Summary statistics for key engineered features:\n",
            "       funding_per_year  days_to_first_funding  milestone_frequency  funding_efficiency  relationship_density  text_quality_score\n",
            "count      1.965530e+05          196553.000000        196553.000000        1.965530e+05         196553.000000       196553.000000\n",
            "mean       5.426132e+04             129.329087             0.020917        9.000434e+05              0.117813            1.764013\n",
            "std        2.690541e+05             554.831897             0.045755        6.357153e+06              0.250928            1.564535\n",
            "min        0.000000e+00          -17536.000000             0.000000        0.000000e+00              0.000000            0.000000\n",
            "25%        0.000000e+00               0.000000             0.000000        0.000000e+00              0.080825            0.000000\n",
            "50%        0.000000e+00               0.000000             0.000000        0.000000e+00              0.080825            2.000000\n",
            "75%        0.000000e+00               0.000000             0.000000        0.000000e+00              0.080825            3.000000\n",
            "max        2.086253e+06            3800.000000             0.529433        2.027891e+08             43.014130            5.000000\n",
            "\n",
            "Feature engineering process completed successfully!\n"
          ]
        }
      ],
      "source": [
        "# 12. Display summary statistics for key engineered features\n",
        "print(\"\\nSummary statistics for key engineered features:\")\n",
        "\n",
        "key_features = [\n",
        "    'funding_per_year', 'days_to_first_funding', 'milestone_frequency',\n",
        "    'funding_efficiency', 'relationship_density', 'text_quality_score'\n",
        "]\n",
        "\n",
        "summary_stats = df[key_features].describe()\n",
        "print(summary_stats)\n",
        "\n",
        "print(\"\\nFeature engineering process completed successfully!\")"
      ]
    }
  ],
  "metadata": {
    "kernelspec": {
      "display_name": "erdos_spring_2025",
      "language": "python",
      "name": "python3"
    },
    "language_info": {
      "codemirror_mode": {
        "name": "ipython",
        "version": 3
      },
      "file_extension": ".py",
      "mimetype": "text/x-python",
      "name": "python",
      "nbconvert_exporter": "python",
      "pygments_lexer": "ipython3",
      "version": "3.12.8"
    }
  },
  "nbformat": 4,
  "nbformat_minor": 5
}
