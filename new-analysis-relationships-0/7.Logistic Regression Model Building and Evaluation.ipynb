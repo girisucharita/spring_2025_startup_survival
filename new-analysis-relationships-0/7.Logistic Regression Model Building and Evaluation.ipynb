{
 "cells": [
  {
   "cell_type": "code",
   "execution_count": 1,
   "id": "4a8a9dac",
   "metadata": {},
   "outputs": [
    {
     "name": "stdout",
     "output_type": "stream",
     "text": [
      "Libraries imported successfully\n"
     ]
    }
   ],
   "source": [
    "# Import necessary libraries\n",
    "import pandas as pd\n",
    "import numpy as np\n",
    "import matplotlib.pyplot as plt\n",
    "from sklearn.linear_model import LogisticRegression\n",
    "from sklearn.model_selection import cross_val_score, GridSearchCV\n",
    "import pickle\n",
    "import warnings\n",
    "warnings.filterwarnings('ignore')\n",
    "\n",
    "print(\"Libraries imported successfully\")"
   ]
  },
  {
   "cell_type": "code",
   "execution_count": 2,
   "id": "cbcb4671",
   "metadata": {},
   "outputs": [
    {
     "name": "stdout",
     "output_type": "stream",
     "text": [
      "X_train shape: (41290, 4)\n",
      "y_train shape: (41290,)\n",
      "Number of positive class samples: 13386\n",
      "Number of negative class samples: 27904\n",
      "Class distribution: 0.32 (positive) / 0.68 (negative)\n",
      "\n",
      "First 5 rows of X_train:\n",
      "   funding_rounds  funding_total_usd  milestones  relationships\n",
      "0        1.061713           0.203911    2.440358       0.002626\n",
      "1       -0.573306          -0.199304   -0.821018      -0.201348\n",
      "2       -0.573306          -0.199304   -0.821018      -0.065365\n",
      "3        1.061713           4.647531    0.266107       1.294464\n",
      "4        1.061713          -0.160714   -0.821018      -0.065365\n"
     ]
    }
   ],
   "source": [
    "# Load the training data\n",
    "X_train = pd.read_csv('X_train.csv')\n",
    "y_train = pd.read_csv('y_train.csv')\n",
    "\n",
    "# Convert y_train to a 1D array (required format for sklearn)\n",
    "y_train = y_train['success_binary'].values\n",
    "\n",
    "# Display basic information about the data\n",
    "print(f\"X_train shape: {X_train.shape}\")\n",
    "print(f\"y_train shape: {y_train.shape}\")\n",
    "print(f\"Number of positive class samples: {sum(y_train)}\")\n",
    "print(f\"Number of negative class samples: {len(y_train) - sum(y_train)}\")\n",
    "print(f\"Class distribution: {sum(y_train)/len(y_train):.2f} (positive) / {1-sum(y_train)/len(y_train):.2f} (negative)\")\n",
    "\n",
    "# Display first few rows of X_train\n",
    "print(\"\\nFirst 5 rows of X_train:\")\n",
    "print(X_train.head())"
   ]
  },
  {
   "cell_type": "code",
   "execution_count": 3,
   "id": "8afabf90",
   "metadata": {},
   "outputs": [
    {
     "name": "stdout",
     "output_type": "stream",
     "text": [
      "Baseline model cross-validation accuracy: 0.6898 ± 0.0025\n"
     ]
    }
   ],
   "source": [
    "# Train a basic logistic regression model with default parameters\n",
    "# We'll use this as a baseline before tuning\n",
    "baseline_model = LogisticRegression(random_state=42)\n",
    "baseline_model.fit(X_train, y_train)\n",
    "\n",
    "# Evaluate the baseline model using cross-validation\n",
    "cv_scores = cross_val_score(baseline_model, X_train, y_train, cv=5, scoring='accuracy')\n",
    "print(f\"Baseline model cross-validation accuracy: {cv_scores.mean():.4f} ± {cv_scores.std():.4f}\")"
   ]
  },
  {
   "cell_type": "code",
   "execution_count": 4,
   "id": "cde8b506",
   "metadata": {},
   "outputs": [
    {
     "name": "stdout",
     "output_type": "stream",
     "text": [
      "Starting grid search for hyperparameter tuning...\n",
      "Best parameters: {'C': 1, 'max_iter': 1000, 'penalty': 'l2', 'solver': 'liblinear'}\n",
      "Best cross-validation accuracy: 0.6899\n"
     ]
    }
   ],
   "source": [
    "# Perform hyperparameter tuning using GridSearchCV\n",
    "# We'll try different values for regularization strength (C) and penalty type\n",
    "param_grid = {\n",
    "    'C': [0.001, 0.01, 0.1, 1, 10, 100],\n",
    "    'penalty': ['l1', 'l2'],\n",
    "    'solver': ['liblinear'],  # liblinear supports both l1 and l2 penalties\n",
    "    'max_iter': [1000]\n",
    "}\n",
    "\n",
    "grid_search = GridSearchCV(\n",
    "    LogisticRegression(random_state=42),\n",
    "    param_grid,\n",
    "    cv=5,\n",
    "    scoring='accuracy',\n",
    "    n_jobs=-1  # Use all available cores\n",
    ")\n",
    "\n",
    "print(\"Starting grid search for hyperparameter tuning...\")\n",
    "grid_search.fit(X_train, y_train)\n",
    "\n",
    "# Print the best parameters and score\n",
    "print(f\"Best parameters: {grid_search.best_params_}\")\n",
    "print(f\"Best cross-validation accuracy: {grid_search.best_score_:.4f}\")"
   ]
  },
  {
   "cell_type": "code",
   "execution_count": 5,
   "id": "9d8801f7",
   "metadata": {},
   "outputs": [
    {
     "name": "stdout",
     "output_type": "stream",
     "text": [
      "Training final model with parameters: {'C': 1, 'max_iter': 1000, 'penalty': 'l2', 'solver': 'liblinear'}\n",
      "Training accuracy: 0.6900\n"
     ]
    }
   ],
   "source": [
    "# Train the final model with the best parameters\n",
    "best_params = grid_search.best_params_\n",
    "final_model = LogisticRegression(\n",
    "    C=best_params['C'],\n",
    "    penalty=best_params['penalty'],\n",
    "    solver=best_params['solver'],\n",
    "    max_iter=best_params['max_iter'],\n",
    "    random_state=42\n",
    ")\n",
    "\n",
    "print(f\"Training final model with parameters: {best_params}\")\n",
    "final_model.fit(X_train, y_train)\n",
    "\n",
    "# Calculate training accuracy\n",
    "train_accuracy = final_model.score(X_train, y_train)\n",
    "print(f\"Training accuracy: {train_accuracy:.4f}\")"
   ]
  },
  {
   "cell_type": "code",
   "execution_count": 6,
   "id": "1aa35e8c",
   "metadata": {},
   "outputs": [
    {
     "name": "stdout",
     "output_type": "stream",
     "text": [
      "\n",
      "Top 10 most important features:\n",
      "             Feature  Coefficient  Abs_Coefficient\n",
      "3      relationships     1.020662         1.020662\n",
      "1  funding_total_usd     0.312374         0.312374\n",
      "0     funding_rounds    -0.163384         0.163384\n",
      "2         milestones    -0.053362         0.053362\n"
     ]
    },
    {
     "data": {
      "image/png": "[encoded data removed]",
      "text/plain": [
       "<Figure size 1200x800 with 1 Axes>"
      ]
     },
     "metadata": {},
     "output_type": "display_data"
    },
    {
     "data": {
      "image/png": "[encoded data removed]",
      "text/plain": [
       "<Figure size 1200x800 with 1 Axes>"
      ]
     },
     "metadata": {},
     "output_type": "display_data"
    }
   ],
   "source": [
    "# Examine the coefficients of the model to understand feature importance\n",
    "\n",
    "# First, let's check if all coefficients are zero (which indicates a problem)\n",
    "if np.all(final_model.coef_[0] == 0):\n",
    "    print(\"WARNING: All coefficients are zero. This suggests excessive regularization.\")\n",
    "    print(f\"Current model parameters: {best_params}\")\n",
    "    \n",
    "    # Train a new model with less regularization for feature importance analysis\n",
    "    print(\"\\nTraining a model with less regularization for feature importance analysis...\")\n",
    "    analysis_model = LogisticRegression(\n",
    "        C=1.0,  # Higher C means less regularization\n",
    "        penalty='l2',  # L2 is less likely to zero out coefficients completely\n",
    "        solver='liblinear',\n",
    "        max_iter=1000,\n",
    "        random_state=42\n",
    "    )\n",
    "    analysis_model.fit(X_train, y_train)\n",
    "    \n",
    "    # Calculate and print accuracy of this analysis model\n",
    "    analysis_accuracy = analysis_model.score(X_train, y_train)\n",
    "    print(f\"Analysis model accuracy: {analysis_accuracy:.4f}\")\n",
    "    \n",
    "    # Use this model's coefficients for feature importance\n",
    "    coefficients = pd.DataFrame({\n",
    "        'Feature': X_train.columns,\n",
    "        'Coefficient': analysis_model.coef_[0]\n",
    "    })\n",
    "else:\n",
    "    # Use the original model if coefficients are not all zero\n",
    "    coefficients = pd.DataFrame({\n",
    "        'Feature': X_train.columns,\n",
    "        'Coefficient': final_model.coef_[0]\n",
    "    })\n",
    "\n",
    "# Sort by absolute coefficient value to see most important features\n",
    "coefficients['Abs_Coefficient'] = abs(coefficients['Coefficient'])\n",
    "coefficients = coefficients.sort_values('Abs_Coefficient', ascending=False)\n",
    "\n",
    "print(\"\\nTop 10 most important features:\")\n",
    "print(coefficients.head(10))\n",
    "\n",
    "# Plot the coefficients\n",
    "plt.figure(figsize=(12, 8))\n",
    "top_features = coefficients.head(15)  # Increased to show more features\n",
    "plt.barh(top_features['Feature'], top_features['Coefficient'])\n",
    "plt.xlabel('Coefficient Value')\n",
    "plt.ylabel('Feature')\n",
    "plt.title('Top 15 Feature Coefficients')\n",
    "plt.axvline(x=0, color='gray', linestyle='--')  # Add a vertical line at x=0 for reference\n",
    "plt.tight_layout()\n",
    "plt.savefig('coefficient_plot.png')\n",
    "plt.show()  # Added to display the plot in the notebook\n",
    "\n",
    "# Also create a plot of absolute coefficient values\n",
    "plt.figure(figsize=(12, 8))\n",
    "plt.barh(top_features['Feature'], top_features['Abs_Coefficient'])\n",
    "plt.xlabel('Absolute Coefficient Value')\n",
    "plt.ylabel('Feature')\n",
    "plt.title('Top 15 Feature Importance (Absolute Coefficients)')\n",
    "plt.tight_layout()\n",
    "plt.savefig('abs_coefficient_plot.png')\n",
    "plt.show()"
   ]
  },
  {
   "cell_type": "code",
   "execution_count": 7,
   "id": "a449810a",
   "metadata": {},
   "outputs": [],
   "source": [
    "# Rank\tFeature\tCoefficient\tInterpretation\n",
    "# 1\trelationships\t+1.02\t💪 Strong positive predictor. More relationships (connections to other companies, people, or investors) increases the likelihood of success significantly.\n",
    "# 2\tfunding_total_usd\t+0.31\t💸 Positive predictor. The more funding a company raises, the higher its chance of success — but the effect is smaller than relationships.\n",
    "# 3\tfunding_rounds\t-0.16\t⚠️ Negative predictor. More funding rounds are (surprisingly) associated with lower chances of success. Could suggest that companies needing repeated rounds are struggling to stabilize or scale.\n",
    "# 4\tmilestones\t-0.05\t📉 Slight negative effect. More reported milestones correlate weakly with lower success probability — which might point to over-reporting or \"activity without real progress\" in this dataset.\n",
    "\n",
    "# Correlation ≠ causation! For example:\n",
    "# more relationships could correlate with unseen advantages (like experienced founders, location, etc.) rather than being the root cause."
   ]
  },
  {
   "cell_type": "code",
   "execution_count": 8,
   "id": "5afcb94e",
   "metadata": {},
   "outputs": [
    {
     "name": "stdout",
     "output_type": "stream",
     "text": [
      "Model building and analysis complete!\n"
     ]
    }
   ],
   "source": [
    "# Additional analysis: Examine the decision boundary\n",
    "# Calculate the predicted probabilities for the training data\n",
    "y_pred_proba = final_model.predict_proba(X_train)[:, 1]\n",
    "\n",
    "# Create a histogram of predicted probabilities\n",
    "plt.figure(figsize=(10, 6))\n",
    "plt.hist(y_pred_proba[y_train == 0], bins=20, alpha=0.5, label='Negative class (0)')\n",
    "plt.hist(y_pred_proba[y_train == 1], bins=20, alpha=0.5, label='Positive class (1)')\n",
    "plt.xlabel('Predicted Probability')\n",
    "plt.ylabel('Frequency')\n",
    "plt.title('Distribution of Predicted Probabilities')\n",
    "plt.legend()\n",
    "plt.savefig('probability_distribution.png')  # Save the plot for reference\n",
    "plt.close()\n",
    "\n",
    "print(\"Model building and analysis complete!\")"
   ]
  },
  {
   "cell_type": "code",
   "execution_count": 10,
   "id": "95f09e82",
   "metadata": {},
   "outputs": [
    {
     "name": "stdout",
     "output_type": "stream",
     "text": [
      "Test Accuracy: 0.6929\n",
      "F1 Score: 0.1645\n",
      "ROC AUC: 0.6178\n",
      "Precision: 0.6980\n",
      "Recall: 0.0932\n",
      "\n",
      "Classification Report:\n",
      "              precision    recall  f1-score   support\n",
      "\n",
      "           0       0.69      0.98      0.81      6976\n",
      "           1       0.70      0.09      0.16      3347\n",
      "\n",
      "    accuracy                           0.69     10323\n",
      "   macro avg       0.70      0.54      0.49     10323\n",
      "weighted avg       0.69      0.69      0.60     10323\n",
      "\n",
      "ROC curve saved as 'roc_curve.png'\n"
     ]
    }
   ],
   "source": [
    "# model evaluation\n",
    "# Load the test data (similar to how you loaded the training data)\n",
    "X_test = pd.read_csv('X_test.csv')\n",
    "y_test = pd.read_csv('y_test.csv')\n",
    "\n",
    "# Convert y_test to a 1D array (required format for sklearn)\n",
    "y_test = y_test['success_binary'].values  # Assuming 'success_binary' is the target column\n",
    "\n",
    "# Model evaluation\n",
    "from sklearn.metrics import f1_score, roc_auc_score, precision_score, recall_score, classification_report, accuracy_score\n",
    "import matplotlib.pyplot as plt\n",
    "from sklearn.metrics import roc_curve\n",
    "\n",
    "# Predict class labels\n",
    "y_pred = final_model.predict(X_test)\n",
    "\n",
    "# Predict probabilities for ROC curve\n",
    "y_pred_proba = final_model.predict_proba(X_test)[:, 1]\n",
    "\n",
    "# --- Accuracy ---\n",
    "accuracy = accuracy_score(y_test, y_pred)\n",
    "print(f\"Test Accuracy: {accuracy:.4f}\")\n",
    "\n",
    "# --- F1 Score ---\n",
    "f1 = f1_score(y_test, y_pred)\n",
    "print(f\"F1 Score: {f1:.4f}\")\n",
    "\n",
    "# --- ROC AUC ---\n",
    "roc_auc = roc_auc_score(y_test, y_pred_proba)\n",
    "print(f\"ROC AUC: {roc_auc:.4f}\")\n",
    "\n",
    "# --- Precision ---\n",
    "precision = precision_score(y_test, y_pred)\n",
    "print(f\"Precision: {precision:.4f}\")\n",
    "\n",
    "# --- Recall ---\n",
    "recall = recall_score(y_test, y_pred)\n",
    "print(f\"Recall: {recall:.4f}\")\n",
    "\n",
    "# --- Classification Report ---\n",
    "print(\"\\nClassification Report:\")\n",
    "print(classification_report(y_test, y_pred))\n",
    "\n",
    "# --- ROC Curve ---\n",
    "fpr, tpr, thresholds = roc_curve(y_test, y_pred_proba)\n",
    "\n",
    "# Plot ROC Curve\n",
    "plt.figure(figsize=(8,6))\n",
    "plt.plot(fpr, tpr, label=f'ROC Curve (AUC = {roc_auc:.2f})', linewidth=2)\n",
    "plt.plot([0,1], [0,1], 'k--', label='Random Classifier')\n",
    "plt.xlabel('False Positive Rate')\n",
    "plt.ylabel('True Positive Rate')\n",
    "plt.title('Receiver Operating Characteristic (ROC) Curve')\n",
    "plt.legend(loc='lower right')\n",
    "plt.grid(True)\n",
    "plt.tight_layout()\n",
    "plt.savefig('roc_curve.png')  # Save the plot\n",
    "plt.close()\n",
    "\n",
    "print(\"ROC curve saved as 'roc_curve.png'\")\n"
   ]
  },
  {
   "cell_type": "code",
   "execution_count": 11,
   "id": "e67be4c9",
   "metadata": {},
   "outputs": [
    {
     "name": "stdout",
     "output_type": "stream",
     "text": [
      "Precision-Recall curve saved as 'precision_recall_curve.png'\n"
     ]
    }
   ],
   "source": [
    "from sklearn.metrics import precision_recall_curve, auc\n",
    "\n",
    "# --- Precision-Recall Curve ---\n",
    "precision_vals, recall_vals, pr_thresholds = precision_recall_curve(y_test, y_pred_proba)\n",
    "pr_auc = auc(recall_vals, precision_vals)\n",
    "\n",
    "# Plot Precision-Recall Curve\n",
    "plt.figure(figsize=(8,6))\n",
    "plt.plot(recall_vals, precision_vals, label=f'PR Curve (AUC = {pr_auc:.2f})', color='royalblue', linewidth=2)\n",
    "plt.xlabel('Recall')\n",
    "plt.ylabel('Precision')\n",
    "plt.title('Precision-Recall Curve for Startup Success Model')\n",
    "plt.legend(loc='best')\n",
    "plt.grid(True)\n",
    "plt.tight_layout()\n",
    "plt.savefig('precision_recall_curve.png')  # Save the plot\n",
    "plt.close()\n",
    "\n",
    "print(\"Precision-Recall curve saved as 'precision_recall_curve.png'\")\n"
   ]
  },
  {
   "cell_type": "code",
   "execution_count": null,
   "id": "1196f373",
   "metadata": {},
   "outputs": [],
   "source": []
  }
 ],
 "metadata": {
  "kernelspec": {
   "display_name": "erdos_spring_2025",
   "language": "python",
   "name": "python3"
  },
  "language_info": {
   "codemirror_mode": {
    "name": "ipython",
    "version": 3
   },
   "file_extension": ".py",
   "mimetype": "text/x-python",
   "name": "python",
   "nbconvert_exporter": "python",
   "pygments_lexer": "ipython3",
   "version": "3.12.8"
  }
 },
 "nbformat": 4,
 "nbformat_minor": 5
}
