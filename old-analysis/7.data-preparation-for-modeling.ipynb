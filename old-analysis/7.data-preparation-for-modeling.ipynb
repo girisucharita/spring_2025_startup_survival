{
  "cells": [
    {
      "cell_type": "markdown",
      "metadata": {},
      "source": [
        "# Data Preparation for Modeling\n",
        "Prepare the data for machine learning by splitting into training and testing sets, handling categorical variables, and scaling numerical features. This step ensures our models can be properly trained and evaluated."
      ]
    },
    {
      "cell_type": "code",
      "execution_count": 1,
      "metadata": {},
      "outputs": [],
      "source": [
        "# Import necessary libraries\n",
        "import pandas as pd\n",
        "import numpy as np\n",
        "import matplotlib.pyplot as plt\n",
        "import seaborn as sns\n",
        "from sklearn.model_selection import train_test_split\n",
        "from sklearn.preprocessing import StandardScaler, OneHotEncoder, LabelEncoder\n",
        "from sklearn.impute import SimpleImputer\n",
        "from sklearn.compose import ColumnTransformer\n",
        "from sklearn.pipeline import Pipeline\n",
        "import pickle\n",
        "import os\n",
        "import warnings\n",
        "warnings.filterwarnings('ignore')\n",
        "\n",
        "# Set random seed for reproducibility\n",
        "np.random.seed(42)"
      ]
    },
    {
      "cell_type": "code",
      "execution_count": 2,
      "metadata": {},
      "outputs": [
        {
          "name": "stdout",
          "output_type": "stream",
          "text": [
            "Loading selected features dataset...\n",
            "Dataset shape: (196553, 55)\n",
            "Number of unique classes in success_class: 4\n",
            "Class distribution in success_binary:\n",
            "success_binary\n",
            "0    0.92953\n",
            "1    0.07047\n",
            "Name: proportion, dtype: float64\n"
          ]
        }
      ],
      "source": [
        "# Load the selected features dataset\n",
        "print(\"Loading selected features dataset...\")\n",
        "data = pd.read_csv('selected_features.csv')\n",
        "\n",
        "# Display basic information about the dataset\n",
        "print(f\"Dataset shape: {data.shape}\")\n",
        "print(f\"Number of unique classes in success_class: {data['success_class'].nunique()}\")\n",
        "print(f\"Class distribution in success_binary:\\n{data['success_binary'].value_counts(normalize=True)}\")"
      ]
    },
    {
      "cell_type": "code",
      "execution_count": 3,
      "metadata": {},
      "outputs": [
        {
          "name": "stdout",
          "output_type": "stream",
          "text": [
            "Columns with missing values (top 10):\n",
            "lng    112701\n",
            "lat    112701\n",
            "dtype: int64\n",
            "\n",
            "Data types:\n",
            "int64      37\n",
            "float64    12\n",
            "object      5\n",
            "bool        1\n",
            "Name: count, dtype: int64\n"
          ]
        }
      ],
      "source": [
        "# Check for missing values\n",
        "missing_values = data.isnull().sum()\n",
        "print(f\"Columns with missing values (top 10):\\n{missing_values[missing_values > 0].sort_values(ascending=False)[:10]}\")\n",
        "\n",
        "# Check data types\n",
        "print(\"\\nData types:\")\n",
        "print(data.dtypes.value_counts())"
      ]
    },
    {
      "cell_type": "code",
      "execution_count": 4,
      "metadata": {},
      "outputs": [
        {
          "name": "stdout",
          "output_type": "stream",
          "text": [
            "Features shape: (196553, 48)\n",
            "Binary target shape: (196553,)\n",
            "Multi-class target shape: (196553,)\n"
          ]
        }
      ],
      "source": [
        "# Identify target variables and features\n",
        "# We'll use success_binary as our primary target for binary classification\n",
        "# and success_class for multi-class classification\n",
        "\n",
        "# Remove all target variables from features\n",
        "target_columns = ['success_status', 'success_funding', 'success_roi', \n",
        "                 'success_age', 'success_score', 'success_binary', 'success_class']\n",
        "\n",
        "# Select features (all columns except target variables)\n",
        "X = data.drop(target_columns, axis=1)\n",
        "\n",
        "# Select target variables\n",
        "y_binary = data['success_binary']\n",
        "y_multiclass = data['success_class']\n",
        "\n",
        "print(f\"Features shape: {X.shape}\")\n",
        "print(f\"Binary target shape: {y_binary.shape}\")\n",
        "print(f\"Multi-class target shape: {y_multiclass.shape}\")"
      ]
    },
    {
      "cell_type": "code",
      "execution_count": 5,
      "metadata": {},
      "outputs": [
        {
          "name": "stdout",
          "output_type": "stream",
          "text": [
            "Number of categorical features: 5\n",
            "Number of numerical features: 43\n",
            "\n",
            "Categorical features (first 10):\n",
            "['category_code', 'status', 'country_code', 'region_group', 'has_complete_core_info']\n",
            "\n",
            "Numerical features (first 10):\n",
            "['funding_efficiency', 'tag_count', 'lng', 'description_length', 'business_keyword_count', 'has_strong_network', 'days_from_creation_to_funding', 'is_in_tech_state', 'days_to_first_funding', 'relationships']\n"
          ]
        }
      ],
      "source": [
        "# Identify categorical and numerical columns\n",
        "# First, let's separate the columns by data type\n",
        "categorical_cols = X.select_dtypes(include=['object', 'bool']).columns.tolist()\n",
        "numeric_cols = X.select_dtypes(include=['int64', 'float64']).columns.tolist()\n",
        "\n",
        "# Some columns might be binary (0/1) but stored as numeric\n",
        "# We'll keep them as numeric for now\n",
        "\n",
        "print(f\"Number of categorical features: {len(categorical_cols)}\")\n",
        "print(f\"Number of numerical features: {len(numeric_cols)}\")\n",
        "\n",
        "print(\"\\nCategorical features (first 10):\")\n",
        "print(categorical_cols[:10])\n",
        "\n",
        "print(\"\\nNumerical features (first 10):\")\n",
        "print(numeric_cols[:10])"
      ]
    },
    {
      "cell_type": "code",
      "execution_count": 6,
      "metadata": {},
      "outputs": [
        {
          "name": "stdout",
          "output_type": "stream",
          "text": [
            "Percentage of missing values in numeric columns (>0%):\n",
            "lng    57.338733\n",
            "lat    57.338733\n",
            "dtype: float64\n",
            "\n",
            "Columns with >30% missing values: ['lng', 'lat']\n"
          ]
        },
        {
          "data": {
            "image/png": "[encoded data removed]",
            "text/plain": [
              "<Figure size 1000x600 with 1 Axes>"
            ]
          },
          "metadata": {},
          "output_type": "display_data"
        }
      ],
      "source": [
        "# Handle missing values in numeric columns\n",
        "# Check the percentage of missing values in each numeric column\n",
        "numeric_missing = X[numeric_cols].isnull().mean() * 100\n",
        "print(\"Percentage of missing values in numeric columns (>0%):\")\n",
        "print(numeric_missing[numeric_missing > 0].sort_values(ascending=False))\n",
        "\n",
        "# For columns with high missing values, we might need special handling\n",
        "# Let's look at the distribution of some key numeric columns with missing values\n",
        "high_missing_cols = numeric_missing[numeric_missing > 30].index.tolist()\n",
        "\n",
        "if high_missing_cols:\n",
        "    print(f\"\\nColumns with >30% missing values: {high_missing_cols}\")\n",
        "\n",
        "    # For demonstration, let's look at the distribution of the first high-missing column\n",
        "    if len(high_missing_cols) > 0:\n",
        "        col = high_missing_cols[0]\n",
        "        plt.figure(figsize=(10, 6))\n",
        "        plt.hist(X[col].dropna(), bins=30)\n",
        "        plt.title(f'Distribution of {col} (excluding missing values)')\n",
        "        plt.xlabel(col)\n",
        "        plt.ylabel('Frequency')\n",
        "        plt.show()"
      ]
    },
    {
      "cell_type": "code",
      "execution_count": 7,
      "metadata": {},
      "outputs": [
        {
          "name": "stdout",
          "output_type": "stream",
          "text": [
            "Percentage of missing values in categorical columns (>0%):\n",
            "Series([], dtype: float64)\n"
          ]
        }
      ],
      "source": [
        "# Handle missing values in categorical columns\n",
        "categorical_missing = X[categorical_cols].isnull().mean() * 100\n",
        "print(\"Percentage of missing values in categorical columns (>0%):\")\n",
        "print(categorical_missing[categorical_missing > 0].sort_values(ascending=False))\n",
        "\n",
        "# For columns with high missing values, we might need special handling\n",
        "high_missing_cat_cols = categorical_missing[categorical_missing > 30].index.tolist()\n",
        "\n",
        "if high_missing_cat_cols:\n",
        "    print(f\"\\nCategorical columns with >30% missing values: {high_missing_cat_cols}\")\n",
        "\n",
        "    # For demonstration, let's look at the distribution of the first high-missing categorical column\n",
        "    if len(high_missing_cat_cols) > 0:\n",
        "        col = high_missing_cat_cols[0]\n",
        "        plt.figure(figsize=(10, 6))\n",
        "        value_counts = X[col].value_counts()\n",
        "        plt.bar(value_counts.index[:10], value_counts.values[:10])\n",
        "        plt.title(f'Top 10 values in {col} (excluding missing values)')\n",
        "        plt.xlabel(col)\n",
        "        plt.ylabel('Frequency')\n",
        "        plt.xticks(rotation=45)\n",
        "        plt.show()"
      ]
    },
    {
      "cell_type": "code",
      "execution_count": 8,
      "metadata": {},
      "outputs": [
        {
          "name": "stdout",
          "output_type": "stream",
          "text": [
            "Training set shape: (157242, 48)\n",
            "Testing set shape: (39311, 48)\n",
            "Binary class distribution in training set:\n",
            "success_binary\n",
            "0    0.929529\n",
            "1    0.070471\n",
            "Name: proportion, dtype: float64\n",
            "Binary class distribution in testing set:\n",
            "success_binary\n",
            "0    0.929536\n",
            "1    0.070464\n",
            "Name: proportion, dtype: float64\n"
          ]
        }
      ],
      "source": [
        "# Split the data into training and testing sets\n",
        "# We'll use stratified sampling to maintain the class distribution\n",
        "X_train, X_test, y_train_binary, y_test_binary = train_test_split(\n",
        "    X, y_binary, test_size=0.2, random_state=42, stratify=y_binary\n",
        ")\n",
        "\n",
        "# Also create splits for multi-class classification\n",
        "_, _, y_train_multiclass, y_test_multiclass = train_test_split(\n",
        "    X, y_multiclass, test_size=0.2, random_state=42, stratify=y_multiclass\n",
        ")\n",
        "\n",
        "print(f\"Training set shape: {X_train.shape}\")\n",
        "print(f\"Testing set shape: {X_test.shape}\")\n",
        "print(f\"Binary class distribution in training set:\\n{y_train_binary.value_counts(normalize=True)}\")\n",
        "print(f\"Binary class distribution in testing set:\\n{y_test_binary.value_counts(normalize=True)}\")"
      ]
    },
    {
      "cell_type": "code",
      "execution_count": 9,
      "metadata": {},
      "outputs": [],
      "source": [
        "# Create preprocessing pipelines for numerical and categorical features\n",
        "\n",
        "# For numerical features:\n",
        "# 1. Impute missing values with median (more robust to outliers than mean)\n",
        "# 2. Scale the features using StandardScaler\n",
        "\n",
        "# For categorical features:\n",
        "# 1. Impute missing values with the most frequent value\n",
        "# 2. One-hot encode the categorical variables\n",
        "\n",
        "# Define preprocessing for numerical features\n",
        "numeric_transformer = Pipeline(steps=[\n",
        "    ('imputer', SimpleImputer(strategy='median')),\n",
        "    ('scaler', StandardScaler())\n",
        "])\n",
        "\n",
        "# Define preprocessing for categorical features\n",
        "categorical_transformer = Pipeline(steps=[\n",
        "    ('imputer', SimpleImputer(strategy='most_frequent')),\n",
        "    ('onehot', OneHotEncoder(handle_unknown='ignore', sparse_output=False))\n",
        "])\n",
        "\n",
        "# Combine preprocessing steps\n",
        "preprocessor = ColumnTransformer(\n",
        "    transformers=[\n",
        "        ('num', numeric_transformer, numeric_cols),\n",
        "        ('cat', categorical_transformer, categorical_cols)\n",
        "    ],\n",
        "    remainder='drop'  # Drop any columns not specified\n",
        ")"
      ]
    },
    {
      "cell_type": "code",
      "execution_count": 10,
      "metadata": {},
      "outputs": [
        {
          "name": "stdout",
          "output_type": "stream",
          "text": [
            "Fitting preprocessing pipeline...\n",
            "Shape of transformed training data: (157242, 270)\n",
            "Shape of transformed test data: (39311, 270)\n",
            "Number of features after transformation: 270\n"
          ]
        }
      ],
      "source": [
        "# Fit the preprocessing pipeline on the training data\n",
        "print(\"Fitting preprocessing pipeline...\")\n",
        "X_train_transformed = preprocessor.fit_transform(X_train)\n",
        "\n",
        "# Transform the test data\n",
        "X_test_transformed = preprocessor.transform(X_test)\n",
        "\n",
        "# Get feature names after transformation\n",
        "onehot_features = []\n",
        "if categorical_cols:\n",
        "    # Get the one-hot encoded feature names\n",
        "    onehot_encoder = preprocessor.named_transformers_['cat'].named_steps['onehot']\n",
        "    onehot_categories = onehot_encoder.categories_\n",
        "    for i, col in enumerate(categorical_cols):\n",
        "        for cat in onehot_categories[i]:\n",
        "            onehot_features.append(f\"{col}_{cat}\")\n",
        "\n",
        "transformed_feature_names = numeric_cols + onehot_features\n",
        "\n",
        "print(f\"Shape of transformed training data: {X_train_transformed.shape}\")\n",
        "print(f\"Shape of transformed test data: {X_test_transformed.shape}\")\n",
        "print(f\"Number of features after transformation: {X_train_transformed.shape[1]}\")"
      ]
    },
    {
      "cell_type": "code",
      "execution_count": 11,
      "metadata": {},
      "outputs": [
        {
          "name": "stdout",
          "output_type": "stream",
          "text": [
            "Saving preprocessing pipeline...\n",
            "Preprocessing pipeline saved to 'preprocessing_pipeline.pkl'\n"
          ]
        }
      ],
      "source": [
        "# Save the preprocessing pipeline for future use\n",
        "print(\"Saving preprocessing pipeline...\")\n",
        "with open('preprocessing_pipeline.pkl', 'wb') as f:\n",
        "    pickle.dump(preprocessor, f)\n",
        "print(\"Preprocessing pipeline saved to 'preprocessing_pipeline.pkl'\")"
      ]
    },
    {
      "cell_type": "code",
      "execution_count": 12,
      "metadata": {},
      "outputs": [],
      "source": [
        "# Convert transformed data to DataFrames for easier handling\n",
        "# Note: This is optional but makes it easier to work with the data\n",
        "\n",
        "# Create DataFrames with feature names if possible\n",
        "if len(transformed_feature_names) == X_train_transformed.shape[1]:\n",
        "    X_train_df = pd.DataFrame(X_train_transformed, columns=transformed_feature_names)\n",
        "    X_test_df = pd.DataFrame(X_test_transformed, columns=transformed_feature_names)\n",
        "else:\n",
        "    # If feature names don't match (e.g., due to one-hot encoding), use generic column names\n",
        "    X_train_df = pd.DataFrame(X_train_transformed, columns=[f'feature_{i}' for i in range(X_train_transformed.shape[1])])\n",
        "    X_test_df = pd.DataFrame(X_test_transformed, columns=[f'feature_{i}' for i in range(X_test_transformed.shape[1])])\n",
        "\n",
        "# Add target variables to the DataFrames\n",
        "X_train_df['success_binary'] = y_train_binary.values\n",
        "X_train_df['success_class'] = y_train_multiclass.values\n",
        "X_test_df['success_binary'] = y_test_binary.values\n",
        "X_test_df['success_class'] = y_test_multiclass.values"
      ]
    },
    {
      "cell_type": "code",
      "execution_count": 13,
      "metadata": {},
      "outputs": [
        {
          "name": "stdout",
          "output_type": "stream",
          "text": [
            "Saving processed datasets...\n",
            "Processed datasets saved to 'train_data.csv' and 'test_data.csv'\n"
          ]
        }
      ],
      "source": [
        "# Save the processed datasets\n",
        "print(\"Saving processed datasets...\")\n",
        "X_train_df.to_csv('train_data.csv', index=False)\n",
        "X_test_df.to_csv('test_data.csv', index=False)\n",
        "print(\"Processed datasets saved to 'train_data.csv' and 'test_data.csv'\")"
      ]
    },
    {
      "cell_type": "code",
      "execution_count": 14,
      "metadata": {},
      "outputs": [
        {
          "name": "stdout",
          "output_type": "stream",
          "text": [
            "\n",
            "Summary of processed training data:\n",
            "Shape: (157242, 272)\n",
            "Number of features: 270\n",
            "Number of samples: 157242\n",
            "Binary class distribution: success_binary\n",
            "0    0.929529\n",
            "1    0.070471\n",
            "Name: proportion, dtype: float64\n",
            "Multi-class distribution: success_class\n",
            "unsuccessful        0.828392\n",
            "low_success         0.101137\n",
            "high_success        0.058044\n",
            "moderate_success    0.012427\n",
            "Name: proportion, dtype: float64\n",
            "\n",
            "Summary of processed test data:\n",
            "Shape: (39311, 272)\n",
            "Number of features: 270\n",
            "Number of samples: 39311\n",
            "Binary class distribution: success_binary\n",
            "0    0.929536\n",
            "1    0.070464\n",
            "Name: proportion, dtype: float64\n",
            "Multi-class distribution: success_class\n",
            "unsuccessful        0.828394\n",
            "low_success         0.101142\n",
            "high_success        0.058050\n",
            "moderate_success    0.012414\n",
            "Name: proportion, dtype: float64\n",
            "\n",
            "Data preparation complete!\n"
          ]
        }
      ],
      "source": [
        "# Display summary statistics of the processed data\n",
        "print(\"\\nSummary of processed training data:\")\n",
        "print(f\"Shape: {X_train_df.shape}\")\n",
        "print(f\"Number of features: {X_train_df.shape[1] - 2}\")  # Subtract 2 for the target columns\n",
        "print(f\"Number of samples: {X_train_df.shape[0]}\")\n",
        "print(f\"Binary class distribution: {X_train_df['success_binary'].value_counts(normalize=True)}\")\n",
        "print(f\"Multi-class distribution: {X_train_df['success_class'].value_counts(normalize=True)}\")\n",
        "\n",
        "print(\"\\nSummary of processed test data:\")\n",
        "print(f\"Shape: {X_test_df.shape}\")\n",
        "print(f\"Number of features: {X_test_df.shape[1] - 2}\")  # Subtract 2 for the target columns\n",
        "print(f\"Number of samples: {X_test_df.shape[0]}\")\n",
        "print(f\"Binary class distribution: {X_test_df['success_binary'].value_counts(normalize=True)}\")\n",
        "print(f\"Multi-class distribution: {X_test_df['success_class'].value_counts(normalize=True)}\")\n",
        "\n",
        "print(\"\\nData preparation complete!\")"
      ]
    }
  ],
  "metadata": {
    "kernelspec": {
      "display_name": "erdos_spring_2025",
      "language": "python",
      "name": "python3"
    },
    "language_info": {
      "codemirror_mode": {
        "name": "ipython",
        "version": 3
      },
      "file_extension": ".py",
      "mimetype": "text/x-python",
      "name": "python",
      "nbconvert_exporter": "python",
      "pygments_lexer": "ipython3",
      "version": "3.12.8"
    }
  },
  "nbformat": 4,
  "nbformat_minor": 5
}
