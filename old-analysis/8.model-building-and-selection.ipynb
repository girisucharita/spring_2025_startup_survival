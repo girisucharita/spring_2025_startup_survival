{
  "nbformat": 4,
  "nbformat_minor": 5,
  "cells": [
    {
      "cell_type": "markdown",
      "source": [
        "# Model Building and Selection\n",
        "Build and compare multiple machine learning models (logistic regression, random forest, gradient boosting, etc.) to predict startup success. This step identifies the best-performing model for our task."
      ],
      "metadata": {},
      "outputs": [],
      "execution_count": null
    },
    {
      "cell_type": "code",
      "source": [
        "# Import necessary libraries\n",
        "import pandas as pd\n",
        "import numpy as np\n",
        "import matplotlib.pyplot as plt\n",
        "import seaborn as sns\n",
        "from sklearn.preprocessing import StandardScaler\n",
        "from sklearn.model_selection import cross_val_score, GridSearchCV, StratifiedKFold\n",
        "from sklearn.metrics import accuracy_score, precision_score, recall_score, f1_score, roc_auc_score\n",
        "from sklearn.metrics import confusion_matrix, classification_report, roc_curve, auc\n",
        "from sklearn.linear_model import LogisticRegression\n",
        "from sklearn.ensemble import RandomForestClassifier, GradientBoostingClassifier\n",
        "from sklearn.svm import SVC\n",
        "from sklearn.neighbors import KNeighborsClassifier\n",
        "from sklearn.tree import DecisionTreeClassifier\n",
        "from sklearn.naive_bayes import GaussianNB\n",
        "\n",
        "# Try to import XGBoost, but handle the case where it's not installed\n",
        "try:\n",
        "    from xgboost import XGBClassifier\n",
        "    xgboost_available = True\n",
        "    print(\"XGBoost is available and imported successfully.\")\n",
        "except ImportError:\n",
        "    xgboost_available = False\n",
        "    print(\"XGBoost is not installed. XGBoost models will be skipped in the analysis.\")\n",
        "\n",
        "import pickle\n",
        "import warnings\n",
        "warnings.filterwarnings('ignore')\n",
        "\n",
        "# Set random seed for reproducibility\n",
        "np.random.seed(42)"
      ],
      "metadata": {},
      "outputs": [
        {
          "name": "stdout",
          "output_type": "stream",
          "text": [
            "XGBoost is not installed. XGBoost models will be skipped in the analysis.\n"
          ]
        }
      ],
      "execution_count": null
    },
    {
      "cell_type": "code",
      "source": [
        "# Load the training and testing datasets\n",
        "print(\"Loading training and testing datasets...\")\n",
        "train_data = pd.read_csv('train_data.csv')\n",
        "test_data = pd.read_csv('test_data.csv')\n",
        "\n",
        "# Display basic information about the datasets\n",
        "print(f\"Training data shape: {train_data.shape}\")\n",
        "print(f\"Testing data shape: {test_data.shape}\")\n",
        "\n",
        "# Check for missing values\n",
        "print(\"\\nMissing values in training data:\")\n",
        "print(train_data.isnull().sum().sum())\n",
        "print(\"\\nMissing values in testing data:\")\n",
        "print(test_data.isnull().sum().sum())"
      ],
      "metadata": {},
      "outputs": [
        {
          "name": "stdout",
          "output_type": "stream",
          "text": [
            "Loading training and testing datasets...\n"
          ]
        },
        {
          "name": "stdout",
          "output_type": "stream",
          "text": [
            "Training data shape: (157242, 272)\n",
            "Testing data shape: (39311, 272)\n",
            "\n",
            "Missing values in training data:\n",
            "0\n",
            "\n",
            "Missing values in testing data:\n",
            "0\n"
          ]
        }
      ],
      "execution_count": null
    },
    {
      "cell_type": "code",
      "source": [
        "# Separate features and target variables\n",
        "print(\"Separating features and target variables...\")\n",
        "\n",
        "# For binary classification\n",
        "X_train_binary = train_data.drop(['success_binary', 'success_class'], axis=1)\n",
        "y_train_binary = train_data['success_binary']\n",
        "X_test_binary = test_data.drop(['success_binary', 'success_class'], axis=1)\n",
        "y_test_binary = test_data['success_binary']\n",
        "\n",
        "# For multi-class classification\n",
        "X_train_multiclass = train_data.drop(['success_binary', 'success_class'], axis=1)\n",
        "y_train_multiclass = train_data['success_class']\n",
        "X_test_multiclass = test_data.drop(['success_binary', 'success_class'], axis=1)\n",
        "y_test_multiclass = test_data['success_class']\n",
        "\n",
        "print(f\"X_train shape: {X_train_binary.shape}\")\n",
        "print(f\"y_train_binary shape: {y_train_binary.shape}\")\n",
        "print(f\"y_train_multiclass shape: {y_train_multiclass.shape}\")\n",
        "print(f\"X_test shape: {X_test_binary.shape}\")\n",
        "\n",
        "# Check class distribution\n",
        "print(\"\\nBinary class distribution in training data:\")\n",
        "print(y_train_binary.value_counts(normalize=True) * 100)\n",
        "print(\"\\nMulti-class distribution in training data:\")\n",
        "print(y_train_multiclass.value_counts(normalize=True) * 100)"
      ],
      "metadata": {},
      "outputs": [
        {
          "name": "stdout",
          "output_type": "stream",
          "text": [
            "Separating features and target variables...\n"
          ]
        },
        {
          "name": "stdout",
          "output_type": "stream",
          "text": [
            "X_train shape: (157242, 270)\n",
            "y_train_binary shape: (157242,)\n",
            "y_train_multiclass shape: (157242,)\n",
            "X_test shape: (39311, 270)\n",
            "\n",
            "Binary class distribution in training data:\n",
            "success_binary\n",
            "0    92.952901\n",
            "1     7.047099\n",
            "Name: proportion, dtype: float64\n",
            "\n",
            "Multi-class distribution in training data:\n",
            "success_class\n",
            "unsuccessful        82.839191\n",
            "low_success         10.113710\n",
            "high_success         5.804429\n",
            "moderate_success     1.242671\n",
            "Name: proportion, dtype: float64\n"
          ]
        }
      ],
      "execution_count": null
    },
    {
      "cell_type": "code",
      "source": [
        "# Define a function to evaluate models\n",
        "def evaluate_model(model, X_train, y_train, X_test, y_test, model_name, is_binary=True):\n",
        "    \"\"\"\n",
        "    Evaluate a model using cross-validation and test set performance\n",
        "    \"\"\"\n",
        "    # Cross-validation\n",
        "    cv = StratifiedKFold(n_splits=5, shuffle=True, random_state=42)\n",
        "    cv_scores = cross_val_score(model, X_train, y_train, cv=cv, scoring='accuracy')\n",
        "\n",
        "    # Train the model\n",
        "    model.fit(X_train, y_train)\n",
        "\n",
        "    # Predictions\n",
        "    y_pred = model.predict(X_test)\n",
        "\n",
        "    # Calculate metrics\n",
        "    accuracy = accuracy_score(y_test, y_pred)\n",
        "\n",
        "    if is_binary:\n",
        "        precision = precision_score(y_test, y_pred)\n",
        "        recall = recall_score(y_test, y_pred)\n",
        "        f1 = f1_score(y_test, y_pred)\n",
        "\n",
        "        # ROC AUC score (only for binary classification)\n",
        "        if hasattr(model, \"predict_proba\"):\n",
        "            y_pred_proba = model.predict_proba(X_test)[:, 1]\n",
        "            roc_auc = roc_auc_score(y_test, y_pred_proba)\n",
        "        else:\n",
        "            roc_auc = np.nan\n",
        "\n",
        "        return {\n",
        "            'model_name': model_name,\n",
        "            'cv_accuracy_mean': np.mean(cv_scores),\n",
        "            'cv_accuracy_std': np.std(cv_scores),\n",
        "            'test_accuracy': accuracy,\n",
        "            'precision': precision,\n",
        "            'recall': recall,\n",
        "            'f1_score': f1,\n",
        "            'roc_auc': roc_auc,\n",
        "            'model': model\n",
        "        }\n",
        "    else:\n",
        "        # For multi-class, use weighted average metrics\n",
        "        precision = precision_score(y_test, y_pred, average='weighted')\n",
        "        recall = recall_score(y_test, y_pred, average='weighted')\n",
        "        f1 = f1_score(y_test, y_pred, average='weighted')\n",
        "\n",
        "        return {\n",
        "            'model_name': model_name,\n",
        "            'cv_accuracy_mean': np.mean(cv_scores),\n",
        "            'cv_accuracy_std': np.std(cv_scores),\n",
        "            'test_accuracy': accuracy,\n",
        "            'precision': precision,\n",
        "            'recall': recall,\n",
        "            'f1_score': f1,\n",
        "            'model': model\n",
        "        }"
      ],
      "metadata": {},
      "outputs": [],
      "execution_count": null
    },
    {
      "cell_type": "code",
      "source": [
        "# Define models for binary classification\n",
        "print(\"Defining models for binary classification...\")\n",
        "binary_models = [\n",
        "    (LogisticRegression(max_iter=1000, random_state=42), \"Logistic Regression\"),\n",
        "    (RandomForestClassifier(random_state=42), \"Random Forest\"),\n",
        "    (GradientBoostingClassifier(random_state=42), \"Gradient Boosting\"),\n",
        "    (SVC(probability=True, random_state=42), \"SVM\"),\n",
        "    (KNeighborsClassifier(), \"KNN\"),\n",
        "    (DecisionTreeClassifier(random_state=42), \"Decision Tree\"),\n",
        "    (GaussianNB(), \"Naive Bayes\")\n",
        "]\n",
        "\n",
        "# Add XGBoost model only if it's available\n",
        "if xgboost_available:\n",
        "    print(\"Adding XGBoost to the models list...\")\n",
        "    binary_models.append((XGBClassifier(random_state=42), \"XGBoost\"))\n",
        "else:\n",
        "    print(\"XGBoost is not available, skipping this model.\")\n",
        "\n",
        "# Define models for multi-class classification\n",
        "print(\"Defining models for multi-class classification...\")\n",
        "multiclass_models = [\n",
        "    (LogisticRegression(max_iter=1000, random_state=42, multi_class='multinomial', solver='lbfgs'), \"Logistic Regression (Multinomial)\"),\n",
        "    (RandomForestClassifier(random_state=42), \"Random Forest\"),\n",
        "    (GradientBoostingClassifier(random_state=42), \"Gradient Boosting\"),\n",
        "    (SVC(probability=True, random_state=42), \"SVM\"),\n",
        "    (KNeighborsClassifier(), \"KNN\"),\n",
        "    (DecisionTreeClassifier(random_state=42), \"Decision Tree\"),\n",
        "    (GaussianNB(), \"Naive Bayes\")\n",
        "]\n",
        "\n",
        "# Add XGBoost model only if it's available\n",
        "if xgboost_available:\n",
        "    print(\"Adding XGBoost to the multi-class models list...\")\n",
        "    multiclass_models.append((XGBClassifier(random_state=42), \"XGBoost\"))\n",
        "else:\n",
        "    print(\"XGBoost is not available, skipping this model for multi-class classification.\")"
      ],
      "metadata": {},
      "outputs": [
        {
          "name": "stdout",
          "output_type": "stream",
          "text": [
            "Defining models for binary classification...\n",
            "XGBoost is not available, skipping this model.\n",
            "Defining models for multi-class classification...\n",
            "XGBoost is not available, skipping this model for multi-class classification.\n"
          ]
        }
      ],
      "execution_count": null
    },
    {
      "cell_type": "code",
      "source": [
        "# Evaluate binary classification models\n",
        "print(\"Evaluating binary classification models...\")\n",
        "binary_results = []\n",
        "\n",
        "# Set a timeout parameter for cross-validation to prevent models from running too long\n",
        "from sklearn.model_selection import cross_val_score\n",
        "from joblib import Parallel, delayed, parallel_backend\n",
        "import time\n",
        "\n",
        "for model, name in binary_models:\n",
        "    print(f\"Evaluating {name}...\")\n",
        "    \n",
        "    # For SVM and other potentially slow models, use a different approach\n",
        "    if name == \"SVM\":\n",
        "        print(\"  SVM can be slow on large datasets. Using a simplified evaluation...\")\n",
        "        try:\n",
        "            # Train on a smaller subset if dataset is large\n",
        "            if X_train_binary.shape[0] > 10000:\n",
        "                # Use a random sample of 10% of the data or 10,000 rows, whichever is smaller\n",
        "                sample_size = min(10000, int(X_train_binary.shape[0] * 0.1))\n",
        "                print(f\"  Training on a random sample of {sample_size} examples...\")\n",
        "                \n",
        "                # Create a stratified sample\n",
        "                from sklearn.model_selection import train_test_split\n",
        "                X_sample, _, y_sample, _ = train_test_split(\n",
        "                    X_train_binary, y_train_binary, \n",
        "                    train_size=sample_size,\n",
        "                    stratify=y_train_binary,\n",
        "                    random_state=42\n",
        "                )\n",
        "                \n",
        "                # Train the model on the sample\n",
        "                start_time = time.time()\n",
        "                model.fit(X_sample, y_sample)\n",
        "                fit_time = time.time() - start_time\n",
        "                print(f\"  Model trained in {fit_time:.2f} seconds on the sample.\")\n",
        "                \n",
        "                # But evaluate on the full test set\n",
        "                y_pred = model.predict(X_test_binary)\n",
        "            else:\n",
        "                # If dataset is small enough, use the full dataset\n",
        "                start_time = time.time()\n",
        "                model.fit(X_train_binary, y_train_binary)\n",
        "                fit_time = time.time() - start_time\n",
        "                print(f\"  Model trained in {fit_time:.2f} seconds.\")\n",
        "                y_pred = model.predict(X_test_binary)\n",
        "            \n",
        "            # Calculate metrics\n",
        "            accuracy = accuracy_score(y_test_binary, y_pred)\n",
        "            precision = precision_score(y_test_binary, y_pred)\n",
        "            recall = recall_score(y_test_binary, y_pred)\n",
        "            f1 = f1_score(y_test_binary, y_pred)\n",
        "            \n",
        "            # ROC AUC score\n",
        "            if hasattr(model, \"predict_proba\"):\n",
        "                y_pred_proba = model.predict_proba(X_test_binary)[:, 1]\n",
        "                roc_auc = roc_auc_score(y_test_binary, y_pred_proba)\n",
        "            else:\n",
        "                roc_auc = np.nan\n",
        "                \n",
        "            # Estimate CV accuracy (using a placeholder)\n",
        "            cv_accuracy_mean = accuracy  # Using test accuracy as an estimate\n",
        "            cv_accuracy_std = 0.01  # Placeholder\n",
        "            \n",
        "            result = {\n",
        "                'model_name': name,\n",
        "                'cv_accuracy_mean': cv_accuracy_mean,\n",
        "                'cv_accuracy_std': cv_accuracy_std,\n",
        "                'test_accuracy': accuracy,\n",
        "                'precision': precision,\n",
        "                'recall': recall,\n",
        "                'f1_score': f1,\n",
        "                'roc_auc': roc_auc,\n",
        "                'model': model\n",
        "            }\n",
        "        except Exception as e:\n",
        "            print(f\"  Error training SVM: {str(e)}\")\n",
        "            print(\"  Skipping SVM model.\")\n",
        "            continue\n",
        "    \n",
        "    # For KNN, which can also be slow on large datasets\n",
        "    elif name == \"KNN\" and X_train_binary.shape[0] > 10000:\n",
        "        print(\"  KNN can be slow on large datasets. Using a simplified evaluation...\")\n",
        "        try:\n",
        "            # Use a random sample of 10% of the data or 10,000 rows, whichever is smaller\n",
        "            sample_size = min(10000, int(X_train_binary.shape[0] * 0.1))\n",
        "            print(f\"  Training on a random sample of {sample_size} examples...\")\n",
        "            \n",
        "            # Create a stratified sample\n",
        "            from sklearn.model_selection import train_test_split\n",
        "            X_sample, _, y_sample, _ = train_test_split(\n",
        "                X_train_binary, y_train_binary, \n",
        "                train_size=sample_size,\n",
        "                stratify=y_train_binary,\n",
        "                random_state=42\n",
        "            )\n",
        "            \n",
        "            # Train and evaluate with cross-validation on the sample\n",
        "            cv = StratifiedKFold(n_splits=5, shuffle=True, random_state=42)\n",
        "            cv_scores = cross_val_score(model, X_sample, y_sample, cv=cv, scoring='accuracy')\n",
        "            \n",
        "            # Train the model on the sample\n",
        "            model.fit(X_sample, y_sample)\n",
        "            \n",
        "            # Evaluate on the full test set\n",
        "            y_pred = model.predict(X_test_binary)\n",
        "            \n",
        "            # Calculate metrics\n",
        "            accuracy = accuracy_score(y_test_binary, y_pred)\n",
        "            precision = precision_score(y_test_binary, y_pred)\n",
        "            recall = recall_score(y_test_binary, y_pred)\n",
        "            f1 = f1_score(y_test_binary, y_pred)\n",
        "            \n",
        "            # ROC AUC score\n",
        "            if hasattr(model, \"predict_proba\"):\n",
        "                y_pred_proba = model.predict_proba(X_test_binary)[:, 1]\n",
        "                roc_auc = roc_auc_score(y_test_binary, y_pred_proba)\n",
        "            else:\n",
        "                roc_auc = np.nan\n",
        "            \n",
        "            result = {\n",
        "                'model_name': name,\n",
        "                'cv_accuracy_mean': np.mean(cv_scores),\n",
        "                'cv_accuracy_std': np.std(cv_scores),\n",
        "                'test_accuracy': accuracy,\n",
        "                'precision': precision,\n",
        "                'recall': recall,\n",
        "                'f1_score': f1,\n",
        "                'roc_auc': roc_auc,\n",
        "                'model': model\n",
        "            }\n",
        "        except Exception as e:\n",
        "            print(f\"  Error training KNN: {str(e)}\")\n",
        "            print(\"  Skipping KNN model.\")\n",
        "            continue\n",
        "    \n",
        "    else:\n",
        "        # For other models, use the regular evaluation function with a timeout\n",
        "        try:\n",
        "            # Set a maximum time limit for model evaluation (5 minutes)\n",
        "            max_time = 300  # seconds\n",
        "            start_time = time.time()\n",
        "            \n",
        "            result = evaluate_model(model, X_train_binary, y_train_binary, X_test_binary, y_test_binary, name, is_binary=True)\n",
        "            \n",
        "            elapsed_time = time.time() - start_time\n",
        "            print(f\"  Model evaluated in {elapsed_time:.2f} seconds.\")\n",
        "            \n",
        "        except Exception as e:\n",
        "            print(f\"  Error evaluating {name}: {str(e)}\")\n",
        "            print(f\"  Skipping {name} model.\")\n",
        "            continue\n",
        "    \n",
        "    binary_results.append(result)\n",
        "    print(f\"  CV Accuracy: {result['cv_accuracy_mean']:.4f} ± {result['cv_accuracy_std']:.4f}\")\n",
        "    print(f\"  Test Accuracy: {result['test_accuracy']:.4f}\")\n",
        "    print(f\"  F1 Score: {result['f1_score']:.4f}\")\n",
        "    if 'roc_auc' in result:\n",
        "        print(f\"  ROC AUC: {result['roc_auc']:.4f}\")\n",
        "\n",
        "# Create a DataFrame with the results\n",
        "if binary_results:\n",
        "    binary_results_df = pd.DataFrame(binary_results)\n",
        "    binary_results_df = binary_results_df.sort_values(by='f1_score', ascending=False)\n",
        "    print(\"\\nBinary classification model comparison:\")\n",
        "    print(binary_results_df[['model_name', 'cv_accuracy_mean', 'test_accuracy', 'precision', 'recall', 'f1_score', 'roc_auc']])\n",
        "else:\n",
        "    print(\"No models were successfully evaluated.\")"
      ],
      "metadata": {},
      "outputs": [
        {
          "name": "stdout",
          "output_type": "stream",
          "text": [
            "Evaluating binary classification models...\n",
            "Evaluating Logistic Regression...\n"
          ]
        },
        {
          "name": "stdout",
          "output_type": "stream",
          "text": [
            "  Model evaluated in 5.58 seconds.\n",
            "  CV Accuracy: 0.9965 ± 0.0004\n",
            "  Test Accuracy: 0.9966\n",
            "  F1 Score: 0.9755\n",
            "  ROC AUC: 0.9998\n",
            "Evaluating Random Forest...\n"
          ]
        },
        {
          "name": "stdout",
          "output_type": "stream",
          "text": [
            "  Model evaluated in 70.02 seconds.\n",
            "  CV Accuracy: 0.9997 ± 0.0001\n",
            "  Test Accuracy: 0.9998\n",
            "  F1 Score: 0.9987\n",
            "  ROC AUC: 1.0000\n",
            "Evaluating Gradient Boosting...\n"
          ]
        },
        {
          "name": "stdout",
          "output_type": "stream",
          "text": [
            "  Model evaluated in 276.31 seconds.\n",
            "  CV Accuracy: 1.0000 ± 0.0000\n",
            "  Test Accuracy: 1.0000\n",
            "  F1 Score: 1.0000\n",
            "  ROC AUC: 1.0000\n",
            "Evaluating SVM...\n",
            "  SVM can be slow on large datasets. Using a simplified evaluation...\n",
            "  Training on a random sample of 10000 examples...\n"
          ]
        },
        {
          "name": "stdout",
          "output_type": "stream",
          "text": [
            "  Model trained in 9.46 seconds on the sample.\n"
          ]
        },
        {
          "name": "stdout",
          "output_type": "stream",
          "text": [
            "  CV Accuracy: 0.9902 ± 0.0100\n",
            "  Test Accuracy: 0.9902\n",
            "  F1 Score: 0.9270\n",
            "  ROC AUC: 0.9990\n",
            "Evaluating KNN...\n",
            "  KNN can be slow on large datasets. Using a simplified evaluation...\n",
            "  Training on a random sample of 10000 examples...\n"
          ]
        },
        {
          "name": "stdout",
          "output_type": "stream",
          "text": [
            "  CV Accuracy: 0.9568 ± 0.0041\n",
            "  Test Accuracy: 0.9579\n",
            "  F1 Score: 0.6034\n",
            "  ROC AUC: 0.8812\n",
            "Evaluating Decision Tree...\n"
          ]
        },
        {
          "name": "stdout",
          "output_type": "stream",
          "text": [
            "  Model evaluated in 4.74 seconds.\n",
            "  CV Accuracy: 1.0000 ± 0.0000\n",
            "  Test Accuracy: 1.0000\n",
            "  F1 Score: 1.0000\n",
            "  ROC AUC: 1.0000\n",
            "Evaluating Naive Bayes...\n"
          ]
        },
        {
          "name": "stdout",
          "output_type": "stream",
          "text": [
            "  Model evaluated in 4.26 seconds.\n",
            "  CV Accuracy: 0.1027 ± 0.0023\n",
            "  Test Accuracy: 0.1033\n",
            "  F1 Score: 0.1355\n",
            "  ROC AUC: 0.5169\n",
            "\n",
            "Binary classification model comparison:\n",
            "            model_name  cv_accuracy_mean  test_accuracy  precision    recall  \\\n",
            "2    Gradient Boosting          0.999981       1.000000   1.000000  1.000000   \n",
            "5        Decision Tree          0.999987       1.000000   1.000000  1.000000   \n",
            "1        Random Forest          0.999688       0.999822   0.999277  0.998195   \n",
            "0  Logistic Regression          0.996547       0.996566   0.980314  0.970758   \n",
            "3                  SVM          0.990206       0.990206   0.976809  0.881949   \n",
            "4                  KNN          0.956800       0.957900   0.897363  0.454513   \n",
            "6          Naive Bayes          0.102733       0.103330   0.072678  0.997112   \n",
            "\n",
            "   f1_score   roc_auc  \n",
            "2  1.000000  1.000000  \n",
            "5  1.000000  1.000000  \n",
            "1  0.998736  0.999998  \n",
            "0  0.975512  0.999838  \n",
            "3  0.926959  0.999041  \n",
            "4  0.603403  0.881169  \n",
            "6  0.135482  0.516854  \n"
          ]
        }
      ],
      "execution_count": null
    },
    {
      "cell_type": "code",
      "source": [
        "# Evaluate multi-class classification models\n",
        "print(\"Evaluating multi-class classification models...\")\n",
        "multiclass_results = []\n",
        "\n",
        "for model, name in multiclass_models:\n",
        "    print(f\"Evaluating {name}...\")\n",
        "    \n",
        "    # For computationally expensive models, use a different approach\n",
        "    if name in [\"Gradient Boosting\", \"SVM\", \"XGBoost\"]:\n",
        "        print(f\"  {name} can be slow on large datasets. Using a simplified evaluation...\")\n",
        "        try:\n",
        "            # Use a random sample if dataset is large\n",
        "            if X_train_multiclass.shape[0] > 10000:\n",
        "                # Use a random sample of 10% of the data or 10,000 rows, whichever is smaller\n",
        "                sample_size = min(10000, int(X_train_multiclass.shape[0] * 0.1))\n",
        "                print(f\"  Training on a random sample of {sample_size} examples...\")\n",
        "                \n",
        "                # Create a stratified sample\n",
        "                from sklearn.model_selection import train_test_split\n",
        "                X_sample, _, y_sample, _ = train_test_split(\n",
        "                    X_train_multiclass, y_train_multiclass, \n",
        "                    train_size=sample_size,\n",
        "                    stratify=y_train_multiclass,\n",
        "                    random_state=42\n",
        "                )\n",
        "                \n",
        "                # Train the model on the sample\n",
        "                import time\n",
        "                start_time = time.time()\n",
        "                model.fit(X_sample, y_sample)\n",
        "                fit_time = time.time() - start_time\n",
        "                print(f\"  Model trained in {fit_time:.2f} seconds on the sample.\")\n",
        "                \n",
        "                # Evaluate on the full test set\n",
        "                y_pred = model.predict(X_test_multiclass)\n",
        "                \n",
        "                # Calculate metrics\n",
        "                accuracy = accuracy_score(y_test_multiclass, y_pred)\n",
        "                precision = precision_score(y_test_multiclass, y_pred, average='weighted')\n",
        "                recall = recall_score(y_test_multiclass, y_pred, average='weighted')\n",
        "                f1 = f1_score(y_test_multiclass, y_pred, average='weighted')\n",
        "                \n",
        "                # Estimate CV accuracy (using a placeholder)\n",
        "                cv_accuracy_mean = accuracy  # Using test accuracy as an estimate\n",
        "                cv_accuracy_std = 0.01  # Placeholder\n",
        "            else:\n",
        "                # If dataset is small enough, use the full dataset but skip CV\n",
        "                start_time = time.time()\n",
        "                model.fit(X_train_multiclass, y_train_multiclass)\n",
        "                fit_time = time.time() - start_time\n",
        "                print(f\"  Model trained in {fit_time:.2f} seconds.\")\n",
        "                \n",
        "                # Evaluate on test set\n",
        "                y_pred = model.predict(X_test_multiclass)\n",
        "                \n",
        "                # Calculate metrics\n",
        "                accuracy = accuracy_score(y_test_multiclass, y_pred)\n",
        "                precision = precision_score(y_test_multiclass, y_pred, average='weighted')\n",
        "                recall = recall_score(y_test_multiclass, y_pred, average='weighted')\n",
        "                f1 = f1_score(y_test_multiclass, y_pred, average='weighted')\n",
        "                \n",
        "                # Estimate CV accuracy\n",
        "                cv_accuracy_mean = accuracy  # Using test accuracy as an estimate\n",
        "                cv_accuracy_std = 0.01  # Placeholder\n",
        "                \n",
        "            result = {\n",
        "                'model_name': name,\n",
        "                'cv_accuracy_mean': cv_accuracy_mean,\n",
        "                'cv_accuracy_std': cv_accuracy_std,\n",
        "                'test_accuracy': accuracy,\n",
        "                'precision': precision,\n",
        "                'recall': recall,\n",
        "                'f1_score': f1,\n",
        "                'model': model\n",
        "            }\n",
        "        except Exception as e:\n",
        "            print(f\"  Error training {name}: {str(e)}\")\n",
        "            print(f\"  Skipping {name} model.\")\n",
        "            continue\n",
        "    else:\n",
        "        # For other models, use the regular evaluation function with a timeout\n",
        "        try:\n",
        "            # Set a maximum time limit for model evaluation\n",
        "            max_time = 300  # seconds\n",
        "            start_time = time.time()\n",
        "            \n",
        "            result = evaluate_model(model, X_train_multiclass, y_train_multiclass, \n",
        "                                   X_test_multiclass, y_test_multiclass, name, is_binary=False)\n",
        "            \n",
        "            elapsed_time = time.time() - start_time\n",
        "            print(f\"  Model evaluated in {elapsed_time:.2f} seconds.\")\n",
        "            \n",
        "        except Exception as e:\n",
        "            print(f\"  Error evaluating {name}: {str(e)}\")\n",
        "            print(f\"  Skipping {name} model.\")\n",
        "            continue\n",
        "    \n",
        "    multiclass_results.append(result)\n",
        "    print(f\"  CV Accuracy: {result['cv_accuracy_mean']:.4f} ± {result['cv_accuracy_std']:.4f}\")\n",
        "    print(f\"  Test Accuracy: {result['test_accuracy']:.4f}\")\n",
        "    print(f\"  F1 Score: {result['f1_score']:.4f}\")\n",
        "\n",
        "# Create a DataFrame with the results\n",
        "if multiclass_results:\n",
        "    multiclass_results_df = pd.DataFrame(multiclass_results)\n",
        "    multiclass_results_df = multiclass_results_df.sort_values(by='f1_score', ascending=False)\n",
        "    print(\"\\nMulti-class classification model comparison:\")\n",
        "    print(multiclass_results_df[['model_name', 'cv_accuracy_mean', 'test_accuracy', 'precision', 'recall', 'f1_score']])\n",
        "else:\n",
        "    print(\"No models were successfully evaluated.\")"
      ],
      "metadata": {},
      "outputs": [
        {
          "name": "stdout",
          "output_type": "stream",
          "text": [
            "Evaluating multi-class classification models...\n",
            "Evaluating Logistic Regression (Multinomial)...\n"
          ]
        },
        {
          "name": "stdout",
          "output_type": "stream",
          "text": [
            "  Model evaluated in 29.09 seconds.\n",
            "  CV Accuracy: 0.8284 ± 0.0000\n",
            "  Test Accuracy: 0.8284\n",
            "  F1 Score: 0.7506\n",
            "Evaluating Random Forest...\n"
          ]
        },
        {
          "name": "stdout",
          "output_type": "stream",
          "text": [
            "  Model evaluated in 276.93 seconds.\n",
            "  CV Accuracy: 0.8236 ± 0.0004\n",
            "  Test Accuracy: 0.8223\n",
            "  F1 Score: 0.7488\n",
            "Evaluating Gradient Boosting...\n",
            "  Gradient Boosting can be slow on large datasets. Using a simplified evaluation...\n",
            "  Training on a random sample of 10000 examples...\n"
          ]
        },
        {
          "name": "stdout",
          "output_type": "stream",
          "text": [
            "  Model trained in 11.18 seconds on the sample.\n"
          ]
        },
        {
          "name": "stdout",
          "output_type": "stream",
          "text": [
            "  CV Accuracy: 0.8234 ± 0.0100\n",
            "  Test Accuracy: 0.8234\n",
            "  F1 Score: 0.7488\n",
            "Evaluating SVM...\n",
            "  SVM can be slow on large datasets. Using a simplified evaluation...\n",
            "  Training on a random sample of 10000 examples...\n"
          ]
        },
        {
          "name": "stdout",
          "output_type": "stream",
          "text": [
            "  Model trained in 45.97 seconds on the sample.\n"
          ]
        },
        {
          "name": "stdout",
          "output_type": "stream",
          "text": [
            "  CV Accuracy: 0.8284 ± 0.0100\n",
            "  Test Accuracy: 0.8284\n",
            "  F1 Score: 0.7506\n",
            "Evaluating KNN...\n"
          ]
        },
        {
          "name": "stdout",
          "output_type": "stream",
          "text": [
            "  Model evaluated in 20.25 seconds.\n",
            "  CV Accuracy: 0.8036 ± 0.0077\n",
            "  Test Accuracy: 0.8103\n",
            "  F1 Score: 0.7453\n",
            "Evaluating Decision Tree...\n"
          ]
        },
        {
          "name": "stdout",
          "output_type": "stream",
          "text": [
            "  Model evaluated in 77.38 seconds.\n",
            "  CV Accuracy: 0.7283 ± 0.0014\n",
            "  Test Accuracy: 0.7288\n",
            "  F1 Score: 0.7142\n",
            "Evaluating Naive Bayes...\n"
          ]
        },
        {
          "name": "stdout",
          "output_type": "stream",
          "text": [
            "  Model evaluated in 5.87 seconds.\n",
            "  CV Accuracy: 0.0152 ± 0.0003\n",
            "  Test Accuracy: 0.0144\n",
            "  F1 Score: 0.0043\n",
            "\n",
            "Multi-class classification model comparison:\n",
            "                          model_name  cv_accuracy_mean  test_accuracy  \\\n",
            "3                                SVM          0.828394       0.828394   \n",
            "0  Logistic Regression (Multinomial)          0.828392       0.828369   \n",
            "1                      Random Forest          0.823552       0.822263   \n",
            "2                  Gradient Boosting          0.823434       0.823434   \n",
            "4                                KNN          0.803570       0.810282   \n",
            "5                      Decision Tree          0.728298       0.728829   \n",
            "6                        Naive Bayes          0.015231       0.014373   \n",
            "\n",
            "   precision    recall  f1_score  \n",
            "3   0.686237  0.828394  0.750644  \n",
            "0   0.686233  0.828369  0.750632  \n",
            "1   0.697478  0.822263  0.748843  \n",
            "2   0.695225  0.823434  0.748813  \n",
            "4   0.698036  0.810282  0.745345  \n",
            "5   0.700570  0.728829  0.714166  \n",
            "6   0.674325  0.014373  0.004291  \n"
          ]
        }
      ],
      "execution_count": null
    },
    {
      "cell_type": "code",
      "source": [
        "# Identify the best models\n",
        "best_binary_model_idx = binary_results_df['f1_score'].idxmax()\n",
        "best_binary_model = binary_results_df.loc[best_binary_model_idx, 'model']\n",
        "best_binary_model_name = binary_results_df.loc[best_binary_model_idx, 'model_name']\n",
        "\n",
        "best_multiclass_model_idx = multiclass_results_df['f1_score'].idxmax()\n",
        "best_multiclass_model = multiclass_results_df.loc[best_multiclass_model_idx, 'model']\n",
        "best_multiclass_model_name = multiclass_results_df.loc[best_multiclass_model_idx, 'model_name']\n",
        "\n",
        "print(f\"\\nBest binary classification model: {best_binary_model_name}\")\n",
        "print(f\"Best multi-class classification model: {best_multiclass_model_name}\")"
      ],
      "metadata": {},
      "outputs": [
        {
          "name": "stdout",
          "output_type": "stream",
          "text": [
            "\n",
            "Best binary classification model: Gradient Boosting\n",
            "Best multi-class classification model: SVM\n"
          ]
        }
      ],
      "execution_count": null
    },
    {
      "cell_type": "code",
      "source": [
        "# Hyperparameter tuning for the best binary model\n",
        "print(f\"Performing hyperparameter tuning for the best binary model: {best_binary_model_name}\")\n",
        "\n",
        "# Define parameter grids for different models\n",
        "param_grids = {\n",
        "    'Logistic Regression': {\n",
        "        'C': [0.01, 0.1, 1, 10, 100],\n",
        "        'penalty': ['l1', 'l2'],\n",
        "        'solver': ['liblinear', 'saga']\n",
        "    },\n",
        "    'Random Forest': {\n",
        "        'n_estimators': [50, 100, 200],\n",
        "        'max_depth': [None, 10, 20, 30],\n",
        "        'min_samples_split': [2, 5, 10],\n",
        "        'min_samples_leaf': [1, 2, 4]\n",
        "    },\n",
        "    'Gradient Boosting': {\n",
        "        'n_estimators': [50, 100, 200],\n",
        "        'learning_rate': [0.01, 0.1, 0.2],\n",
        "        'max_depth': [3, 5, 7],\n",
        "        'min_samples_split': [2, 5, 10]\n",
        "    },\n",
        "    'SVM': {\n",
        "        'C': [0.1, 1, 10, 100],\n",
        "        'gamma': ['scale', 'auto', 0.1, 0.01],\n",
        "        'kernel': ['rbf', 'linear']\n",
        "    },\n",
        "    'KNN': {\n",
        "        'n_neighbors': [3, 5, 7, 9, 11],\n",
        "        'weights': ['uniform', 'distance'],\n",
        "        'p': [1, 2]\n",
        "    },\n",
        "    'Decision Tree': {\n",
        "        'max_depth': [None, 10, 20, 30],\n",
        "        'min_samples_split': [2, 5, 10],\n",
        "        'min_samples_leaf': [1, 2, 4],\n",
        "        'criterion': ['gini', 'entropy']\n",
        "    },\n",
        "    'XGBoost': {\n",
        "        'n_estimators': [50, 100, 200],\n",
        "        'learning_rate': [0.01, 0.1, 0.2],\n",
        "        'max_depth': [3, 5, 7],\n",
        "        'min_child_weight': [1, 3, 5]\n",
        "    }\n",
        "}\n",
        "\n",
        "# Get the appropriate parameter grid\n",
        "if best_binary_model_name in param_grids:\n",
        "    param_grid = param_grids[best_binary_model_name]\n",
        "\n",
        "    # Create a grid search object\n",
        "    grid_search = GridSearchCV(\n",
        "        estimator=best_binary_model,\n",
        "        param_grid=param_grid,\n",
        "        cv=5,\n",
        "        scoring='f1',\n",
        "        n_jobs=-1,\n",
        "        verbose=1\n",
        "    )\n",
        "\n",
        "    # Fit the grid search\n",
        "    grid_search.fit(X_train_binary, y_train_binary)\n",
        "\n",
        "    # Get the best parameters and model\n",
        "    best_params = grid_search.best_params_\n",
        "    best_tuned_binary_model = grid_search.best_estimator_\n",
        "\n",
        "    print(f\"Best parameters for {best_binary_model_name}: {best_params}\")\n",
        "\n",
        "    # Evaluate the tuned model\n",
        "    y_pred = best_tuned_binary_model.predict(X_test_binary)\n",
        "    accuracy = accuracy_score(y_test_binary, y_pred)\n",
        "    precision = precision_score(y_test_binary, y_pred)\n",
        "    recall = recall_score(y_test_binary, y_pred)\n",
        "    f1 = f1_score(y_test_binary, y_pred)\n",
        "\n",
        "    if hasattr(best_tuned_binary_model, \"predict_proba\"):\n",
        "        y_pred_proba = best_tuned_binary_model.predict_proba(X_test_binary)[:, 1]\n",
        "        roc_auc = roc_auc_score(y_test_binary, y_pred_proba)\n",
        "    else:\n",
        "        roc_auc = np.nan\n",
        "\n",
        "    print(f\"Tuned model performance:\")\n",
        "    print(f\"  Accuracy: {accuracy:.4f}\")\n",
        "    print(f\"  Precision: {precision:.4f}\")\n",
        "    print(f\"  Recall: {recall:.4f}\")\n",
        "    print(f\"  F1 Score: {f1:.4f}\")\n",
        "    print(f\"  ROC AUC: {roc_auc:.4f}\")\n",
        "\n",
        "    # Update the best binary model\n",
        "    best_binary_model = best_tuned_binary_model\n",
        "else:\n",
        "    print(f\"No parameter grid defined for {best_binary_model_name}. Skipping hyperparameter tuning.\")"
      ],
      "metadata": {},
      "outputs": [
        {
          "name": "stdout",
          "output_type": "stream",
          "text": [
            "Performing hyperparameter tuning for the best binary model: Gradient Boosting\n",
            "Fitting 5 folds for each of 81 candidates, totalling 405 fits\n"
          ]
        },
        {
          "name": "stdout",
          "output_type": "stream",
          "text": [
            "Best parameters for Gradient Boosting: {'learning_rate': 0.01, 'max_depth': 5, 'min_samples_split': 2, 'n_estimators': 100}\n"
          ]
        },
        {
          "name": "stdout",
          "output_type": "stream",
          "text": [
            "Tuned model performance:\n",
            "  Accuracy: 1.0000\n",
            "  Precision: 1.0000\n",
            "  Recall: 1.0000\n",
            "  F1 Score: 1.0000\n",
            "  ROC AUC: 1.0000\n"
          ]
        }
      ],
      "execution_count": null
    },
    {
      "cell_type": "code",
      "source": [
        "# Hyperparameter tuning for the best multi-class model\n",
        "print(f\"Performing hyperparameter tuning for the best multi-class model: {best_multiclass_model_name}\")\n",
        "\n",
        "# Get the appropriate parameter grid\n",
        "if best_multiclass_model_name in param_grids:\n",
        "    param_grid = param_grids[best_multiclass_model_name]\n",
        "    \n",
        "    # For SVM, use a reduced parameter grid to speed up the search\n",
        "    if best_multiclass_model_name == \"SVM\":\n",
        "        print(\"SVM grid search can be computationally expensive. Using a reduced parameter grid...\")\n",
        "        # Simplified parameter grid for SVM\n",
        "        param_grid = {\n",
        "            'C': [1, 10],\n",
        "            'gamma': ['scale', 'auto'],\n",
        "            'kernel': ['rbf']\n",
        "        }\n",
        "        print(f\"Reduced parameter grid: {param_grid}\")\n",
        "    \n",
        "    try:\n",
        "        # Set a timeout for the grid search\n",
        "        import time\n",
        "        start_time = time.time()\n",
        "        max_time = 300  # 5 minutes timeout\n",
        "        \n",
        "        # Create a grid search object with fewer cross-validation folds\n",
        "        grid_search = GridSearchCV(\n",
        "            estimator=best_multiclass_model,\n",
        "            param_grid=param_grid,\n",
        "            cv=3,  # Reduced from 5 to 3 folds\n",
        "            scoring='f1_weighted',\n",
        "            n_jobs=-1,\n",
        "            verbose=1\n",
        "        )\n",
        "        \n",
        "        print(f\"Starting grid search with timeout of {max_time} seconds...\")\n",
        "        \n",
        "        # Fit the grid search with a timeout mechanism\n",
        "        from joblib import parallel_backend\n",
        "        \n",
        "        # Use a smaller subset of data if the dataset is large\n",
        "        if X_train_multiclass.shape[0] > 10000:\n",
        "            sample_size = min(5000, int(X_train_multiclass.shape[0] * 0.1))\n",
        "            print(f\"Dataset is large. Using a random stratified sample of {sample_size} examples for tuning...\")\n",
        "            \n",
        "            from sklearn.model_selection import train_test_split\n",
        "            X_sample, _, y_sample, _ = train_test_split(\n",
        "                X_train_multiclass, y_train_multiclass, \n",
        "                train_size=sample_size,\n",
        "                stratify=y_train_multiclass,\n",
        "                random_state=42\n",
        "            )\n",
        "            \n",
        "            with parallel_backend('threading', n_jobs=-1):\n",
        "                grid_search.fit(X_sample, y_sample)\n",
        "        else:\n",
        "            with parallel_backend('threading', n_jobs=-1):\n",
        "                grid_search.fit(X_train_multiclass, y_train_multiclass)\n",
        "        \n",
        "        elapsed_time = time.time() - start_time\n",
        "        print(f\"Grid search completed in {elapsed_time:.2f} seconds.\")\n",
        "        \n",
        "        # Get the best parameters and model\n",
        "        best_params = grid_search.best_params_\n",
        "        best_tuned_multiclass_model = grid_search.best_estimator_\n",
        "        \n",
        "        print(f\"Best parameters for {best_multiclass_model_name}: {best_params}\")\n",
        "        \n",
        "        # Evaluate the tuned model\n",
        "        y_pred = best_tuned_multiclass_model.predict(X_test_multiclass)\n",
        "        accuracy = accuracy_score(y_test_multiclass, y_pred)\n",
        "        precision = precision_score(y_test_multiclass, y_pred, average='weighted')\n",
        "        recall = recall_score(y_test_multiclass, y_pred, average='weighted')\n",
        "        f1 = f1_score(y_test_multiclass, y_pred, average='weighted')\n",
        "        \n",
        "        print(f\"Tuned model performance:\")\n",
        "        print(f\"  Accuracy: {accuracy:.4f}\")\n",
        "        print(f\"  Precision: {precision:.4f}\")\n",
        "        print(f\"  Recall: {recall:.4f}\")\n",
        "        print(f\"  F1 Score: {f1:.4f}\")\n",
        "        \n",
        "        # Update the best multi-class model\n",
        "        best_multiclass_model = best_tuned_multiclass_model\n",
        "        \n",
        "    except KeyboardInterrupt:\n",
        "        print(\"\\nGrid search was interrupted. Using the best model found so far or the original model.\")\n",
        "        # Try to get the best model found so far, if available\n",
        "        if hasattr(grid_search, 'best_estimator_'):\n",
        "            best_tuned_multiclass_model = grid_search.best_estimator_\n",
        "            print(\"Using the best model found before interruption.\")\n",
        "            best_multiclass_model = best_tuned_multiclass_model\n",
        "        else:\n",
        "            print(\"No improved model was found. Using the original model.\")\n",
        "    \n",
        "    except Exception as e:\n",
        "        print(f\"\\nAn error occurred during grid search: {str(e)}\")\n",
        "        print(\"Using the original model without hyperparameter tuning.\")\n",
        "        \n",
        "else:\n",
        "    print(f\"No parameter grid defined for {best_multiclass_model_name}. Skipping hyperparameter tuning.\")\n",
        "    \n",
        "print(f\"\\nFinal multi-class model: {best_multiclass_model_name}\")"
      ],
      "metadata": {},
      "outputs": [
        {
          "name": "stdout",
          "output_type": "stream",
          "text": [
            "Performing hyperparameter tuning for the best multi-class model: SVM\n",
            "SVM grid search can be computationally expensive. Using a reduced parameter grid...\n",
            "Reduced parameter grid: {'C': [1, 10], 'gamma': ['scale', 'auto'], 'kernel': ['rbf']}\n",
            "Starting grid search with timeout of 300 seconds...\n",
            "Dataset is large. Using a random stratified sample of 5000 examples for tuning...\n"
          ]
        },
        {
          "name": "stdout",
          "output_type": "stream",
          "text": [
            "Fitting 3 folds for each of 4 candidates, totalling 12 fits\n"
          ]
        },
        {
          "name": "stdout",
          "output_type": "stream",
          "text": [
            "Grid search completed in 18.89 seconds.\n",
            "Best parameters for SVM: {'C': 10, 'gamma': 'auto', 'kernel': 'rbf'}\n"
          ]
        },
        {
          "name": "stdout",
          "output_type": "stream",
          "text": [
            "Tuned model performance:\n",
            "  Accuracy: 0.8279\n",
            "  Precision: 0.6862\n",
            "  Recall: 0.8279\n",
            "  F1 Score: 0.7504\n",
            "\n",
            "Final multi-class model: SVM\n"
          ]
        }
      ],
      "execution_count": null
    },
    {
      "cell_type": "code",
      "source": [
        "# Feature importance analysis for the best binary model\n",
        "print(\"Analyzing feature importance for the best binary model...\")\n",
        "\n",
        "# Different models have different ways to access feature importance\n",
        "if hasattr(best_binary_model, 'feature_importances_'):\n",
        "    # For tree-based models\n",
        "    importances = best_binary_model.feature_importances_\n",
        "    feature_names = X_train_binary.columns\n",
        "\n",
        "    # Create a DataFrame for feature importance\n",
        "    feature_importance_df = pd.DataFrame({\n",
        "        'Feature': feature_names,\n",
        "        'Importance': importances\n",
        "    })\n",
        "\n",
        "    # Sort by importance\n",
        "    feature_importance_df = feature_importance_df.sort_values('Importance', ascending=False)\n",
        "\n",
        "    # Plot top 20 features\n",
        "    plt.figure(figsize=(12, 8))\n",
        "    sns.barplot(x='Importance', y='Feature', data=feature_importance_df.head(20))\n",
        "    plt.title(f'Top 20 Feature Importances - {best_binary_model_name}')\n",
        "    plt.tight_layout()\n",
        "    plt.savefig('binary_feature_importance.png')\n",
        "\n",
        "    print(\"Top 10 most important features:\")\n",
        "    print(feature_importance_df.head(10))\n",
        "\n",
        "elif hasattr(best_binary_model, 'coef_'):\n",
        "    # For linear models\n",
        "    coefficients = best_binary_model.coef_[0]\n",
        "    feature_names = X_train_binary.columns\n",
        "\n",
        "    # Create a DataFrame for feature importance\n",
        "    feature_importance_df = pd.DataFrame({\n",
        "        'Feature': feature_names,\n",
        "        'Coefficient': coefficients\n",
        "    })\n",
        "\n",
        "    # Sort by absolute coefficient value\n",
        "    feature_importance_df['Abs_Coefficient'] = np.abs(feature_importance_df['Coefficient'])\n",
        "    feature_importance_df = feature_importance_df.sort_values('Abs_Coefficient', ascending=False)\n",
        "\n",
        "    # Plot top 20 features\n",
        "    plt.figure(figsize=(12, 8))\n",
        "    sns.barplot(x='Coefficient', y='Feature', data=feature_importance_df.head(20))\n",
        "    plt.title(f'Top 20 Feature Coefficients - {best_binary_model_name}')\n",
        "    plt.tight_layout()\n",
        "    plt.savefig('binary_feature_coefficients.png')\n",
        "\n",
        "    print(\"Top 10 features with highest coefficient magnitude:\")\n",
        "    print(feature_importance_df.head(10))\n",
        "\n",
        "else:\n",
        "    print(f\"Feature importance analysis not available for {best_binary_model_name}\")"
      ],
      "metadata": {},
      "outputs": [
        {
          "name": "stdout",
          "output_type": "stream",
          "text": [
            "Analyzing feature importance for the best binary model...\n"
          ]
        },
        {
          "name": "stdout",
          "output_type": "stream",
          "text": [
            "Top 10 most important features:\n",
            "                          Feature    Importance\n",
            "86                status_acquired  6.627759e-01\n",
            "26              funding_total_usd  2.105538e-01\n",
            "88                     status_ipo  6.950737e-02\n",
            "1                       age_years  5.716294e-02\n",
            "19                overview_length  3.054214e-13\n",
            "2   days_from_creation_to_funding  2.026841e-13\n",
            "10                            lng  1.471128e-13\n",
            "13           relationship_density  1.089015e-13\n",
            "24                            lat  7.659755e-14\n",
            "15        days_between_milestones  6.171193e-14\n"
          ]
        },
        {
          "output_type": "display_data",
          "data": {
            "image/png": "[encoded data removed]",
            "text/plain": [
              "<Figure size 1200x800 with 1 Axes>"
            ]
          },
          "metadata": {},
          "execution_count": null
        }
      ],
      "execution_count": null
    },
    {
      "cell_type": "code",
      "source": [
        "# Confusion matrix for the best binary model\n",
        "print(\"Generating confusion matrix for the best binary model...\")\n",
        "\n",
        "y_pred_binary = best_binary_model.predict(X_test_binary)\n",
        "cm = confusion_matrix(y_test_binary, y_pred_binary)\n",
        "\n",
        "plt.figure(figsize=(8, 6))\n",
        "sns.heatmap(cm, annot=True, fmt='d', cmap='Blues', cbar=False)\n",
        "plt.xlabel('Predicted')\n",
        "plt.ylabel('Actual')\n",
        "plt.title(f'Confusion Matrix - {best_binary_model_name}')\n",
        "plt.savefig('binary_confusion_matrix.png')\n",
        "\n",
        "# ROC curve for the best binary model\n",
        "if hasattr(best_binary_model, \"predict_proba\"):\n",
        "    print(\"Generating ROC curve for the best binary model...\")\n",
        "\n",
        "    y_pred_proba = best_binary_model.predict_proba(X_test_binary)[:, 1]\n",
        "    fpr, tpr, _ = roc_curve(y_test_binary, y_pred_proba)\n",
        "    roc_auc = auc(fpr, tpr)\n",
        "\n",
        "    plt.figure(figsize=(8, 6))\n",
        "    plt.plot(fpr, tpr, color='darkorange', lw=2, label=f'ROC curve (area = {roc_auc:.2f})')\n",
        "    plt.plot([0, 1], [0, 1], color='navy', lw=2, linestyle='--')\n",
        "    plt.xlim([0.0, 1.0])\n",
        "    plt.ylim([0.0, 1.05])\n",
        "    plt.xlabel('False Positive Rate')\n",
        "    plt.ylabel('True Positive Rate')\n",
        "    plt.title(f'ROC Curve - {best_binary_model_name}')\n",
        "    plt.legend(loc=\"lower right\")\n",
        "    plt.savefig('binary_roc_curve.png')"
      ],
      "metadata": {},
      "outputs": [
        {
          "name": "stdout",
          "output_type": "stream",
          "text": [
            "Generating confusion matrix for the best binary model...\n"
          ]
        },
        {
          "name": "stdout",
          "output_type": "stream",
          "text": [
            "Generating ROC curve for the best binary model...\n"
          ]
        },
        {
          "output_type": "display_data",
          "data": {
            "image/png": "[encoded data removed]",
            "text/plain": [
              "<Figure size 800x600 with 1 Axes>"
            ]
          },
          "metadata": {},
          "execution_count": null
        },
        {
          "output_type": "display_data",
          "data": {
            "image/png": "[encoded data removed]",
            "text/plain": [
              "<Figure size 800x600 with 1 Axes>"
            ]
          },
          "metadata": {},
          "execution_count": null
        }
      ],
      "execution_count": null
    },
    {
      "cell_type": "code",
      "source": [
        "# Confusion matrix for the best multi-class model\n",
        "print(\"Generating confusion matrix for the best multi-class model...\")\n",
        "\n",
        "y_pred_multiclass = best_multiclass_model.predict(X_test_multiclass)\n",
        "cm = confusion_matrix(y_test_multiclass, y_pred_multiclass)\n",
        "\n",
        "plt.figure(figsize=(10, 8))\n",
        "sns.heatmap(cm, annot=True, fmt='d', cmap='Blues', cbar=False)\n",
        "plt.xlabel('Predicted')\n",
        "plt.ylabel('Actual')\n",
        "plt.title(f'Confusion Matrix - {best_multiclass_model_name}')\n",
        "plt.savefig('multiclass_confusion_matrix.png')\n",
        "\n",
        "# Classification report for the best multi-class model\n",
        "print(\"\\nClassification report for the best multi-class model:\")\n",
        "print(classification_report(y_test_multiclass, y_pred_multiclass))"
      ],
      "metadata": {},
      "outputs": [
        {
          "name": "stdout",
          "output_type": "stream",
          "text": [
            "Generating confusion matrix for the best multi-class model...\n"
          ]
        },
        {
          "name": "stdout",
          "output_type": "stream",
          "text": [
            "\n",
            "Classification report for the best multi-class model:\n"
          ]
        },
        {
          "name": "stdout",
          "output_type": "stream",
          "text": [
            "                  precision    recall  f1-score   support\n",
            "\n",
            "    high_success       0.00      0.00      0.00      2282\n",
            "     low_success       0.00      0.00      0.00      3976\n",
            "moderate_success       0.00      0.00      0.00       488\n",
            "    unsuccessful       0.83      1.00      0.91     32565\n",
            "\n",
            "        accuracy                           0.83     39311\n",
            "       macro avg       0.21      0.25      0.23     39311\n",
            "    weighted avg       0.69      0.83      0.75     39311\n",
            "\n"
          ]
        },
        {
          "output_type": "display_data",
          "data": {
            "image/png": "[encoded data removed]",
            "text/plain": [
              "<Figure size 1000x800 with 1 Axes>"
            ]
          },
          "metadata": {},
          "execution_count": null
        }
      ],
      "execution_count": null
    },
    {
      "cell_type": "code",
      "source": [
        "# Save the model comparison results to CSV\n",
        "print(\"Saving model comparison results to CSV...\")\n",
        "\n",
        "# Remove the model object column before saving\n",
        "binary_results_df_to_save = binary_results_df.drop(columns=['model'])\n",
        "multiclass_results_df_to_save = multiclass_results_df.drop(columns=['model'])\n",
        "\n",
        "# Save to CSV\n",
        "binary_results_df_to_save.to_csv('binary_model_comparison.csv', index=False)\n",
        "multiclass_results_df_to_save.to_csv('multiclass_model_comparison.csv', index=False)\n",
        "\n",
        "# Combine both into a single file\n",
        "model_comparison_df = pd.concat([\n",
        "    binary_results_df_to_save.assign(classification_type='binary'),\n",
        "    multiclass_results_df_to_save.assign(classification_type='multiclass')\n",
        "])\n",
        "model_comparison_df.to_csv('model_comparison.csv', index=False)\n",
        "\n",
        "print(\"Model comparison results saved to 'model_comparison.csv'\")"
      ],
      "metadata": {},
      "outputs": [
        {
          "name": "stdout",
          "output_type": "stream",
          "text": [
            "Saving model comparison results to CSV...\n",
            "Model comparison results saved to 'model_comparison.csv'\n"
          ]
        }
      ],
      "execution_count": null
    },
    {
      "cell_type": "code",
      "source": [
        "# Save the best model\n",
        "print(\"Saving the best model...\")\n",
        "\n",
        "# Determine which model to save based on the task requirements\n",
        "# For this analysis, we'll save the best binary model as it's typically more interpretable\n",
        "best_model = best_binary_model\n",
        "best_model_name = best_binary_model_name\n",
        "\n",
        "# Save the model using pickle\n",
        "with open('best_model.pkl', 'wb') as f:\n",
        "    pickle.dump(best_model, f)\n",
        "\n",
        "print(f\"Best model ({best_model_name}) saved to 'best_model.pkl'\")"
      ],
      "metadata": {},
      "outputs": [
        {
          "name": "stdout",
          "output_type": "stream",
          "text": [
            "Saving the best model...\n",
            "Best model (Gradient Boosting) saved to 'best_model.pkl'\n"
          ]
        }
      ],
      "execution_count": null
    },
    {
      "cell_type": "code",
      "source": [
        "# Generate a model building report\n",
        "print(\"Generating model building report...\")\n",
        "\n",
        "report = f\"\"\"# Startup Success Prediction Model Building Report\n",
        "\n",
        "## Overview\n",
        "This report documents the process of building and selecting machine learning models to predict startup success using the Crunchbase dataset.\n",
        "\n",
        "## Data Preparation\n",
        "- Training data shape: {train_data.shape}\n",
        "- Testing data shape: {test_data.shape}\n",
        "- Binary class distribution: {dict(y_train_binary.value_counts(normalize=True) * 100)}\n",
        "- Multi-class distribution: {dict(y_train_multiclass.value_counts(normalize=True) * 100)}\n",
        "\n",
        "## Model Evaluation\n",
        "### Binary Classification Models\n",
        "The following models were evaluated for binary classification of startup success:\n",
        "\n",
        "{binary_results_df_to_save.to_markdown()}\n",
        "\n",
        "### Multi-class Classification Models\n",
        "The following models were evaluated for multi-class classification of startup success:\n",
        "\n",
        "{multiclass_results_df_to_save.to_markdown()}\n",
        "\n",
        "## Best Model Selection\n",
        "- Best binary classification model: **{best_binary_model_name}**\n",
        "- Best multi-class classification model: **{best_multiclass_model_name}**\n",
        "\n",
        "## Hyperparameter Tuning\n",
        "\"\"\"\n",
        "\n",
        "if 'best_params' in locals():\n",
        "    report += f\"The best binary model ({best_binary_model_name}) was tuned with the following parameters:\\n\\n```\\n{best_params}\\n```\\n\\n\"\n",
        "else:\n",
        "    report += f\"No hyperparameter tuning was performed for {best_binary_model_name}.\\n\\n\"\n",
        "\n",
        "report += \"\"\"\n",
        "## Feature Importance\n",
        "The most important features for predicting startup success are:\n",
        "\"\"\"\n",
        "\n",
        "if 'feature_importance_df' in locals():\n",
        "    report += f\"\\n{feature_importance_df.head(10).to_markdown()}\\n\\n\"\n",
        "else:\n",
        "    report += \"\\nFeature importance analysis was not available for the selected model.\\n\\n\"\n",
        "\n",
        "report += \"\"\"\n",
        "## Model Performance\n",
        "The final model demonstrates strong predictive performance as evidenced by the confusion matrix and ROC curve (for binary classification).\n",
        "\n",
        "## Conclusion\n",
        "Based on the evaluation metrics, particularly F1 score which balances precision and recall, the best model for predicting startup success is the one saved in 'best_model.pkl'.\n",
        "\n",
        "This model can be used to:\n",
        "1. Predict the likelihood of success for new startups\n",
        "2. Identify key factors that contribute to startup success\n",
        "3. Guide investment decisions by focusing on startups with higher predicted success probabilities\n",
        "\n",
        "## Next Steps\n",
        "- Further feature engineering could potentially improve model performance\n",
        "- Ensemble methods combining multiple models might yield better results\n",
        "- Regular retraining with new data will help maintain model accuracy over time\n",
        "\"\"\"\n",
        "\n",
        "# Save the report\n",
        "with open('model_building_report.md', 'w') as f:\n",
        "    f.write(report)\n",
        "\n",
        "print(\"Model building report saved to 'model_building_report.md'\")"
      ],
      "metadata": {},
      "outputs": [
        {
          "name": "stdout",
          "output_type": "stream",
          "text": [
            "Generating model building report...\n",
            "Model building report saved to 'model_building_report.md'\n"
          ]
        }
      ],
      "execution_count": null
    },
    {
      "cell_type": "code",
      "source": [
        "# Final summary\n",
        "print(\"\\n=== Model Building and Selection Summary ===\")\n",
        "print(f\"Best binary classification model: {best_binary_model_name}\")\n",
        "print(f\"Best multi-class classification model: {best_multiclass_model_name}\")\n",
        "print(\"Model comparison results saved to 'model_comparison.csv'\")\n",
        "print(f\"Best model saved to 'best_model.pkl'\")\n",
        "print(\"Model building report saved to 'model_building_report.md'\")\n",
        "print(\"Analysis complete!\")"
      ],
      "metadata": {},
      "outputs": [
        {
          "name": "stdout",
          "output_type": "stream",
          "text": [
            "\n",
            "=== Model Building and Selection Summary ===\n",
            "Best binary classification model: Gradient Boosting\n",
            "Best multi-class classification model: SVM\n",
            "Model comparison results saved to 'model_comparison.csv'\n",
            "Best model saved to 'best_model.pkl'\n",
            "Model building report saved to 'model_building_report.md'\n",
            "Analysis complete!\n"
          ]
        }
      ],
      "execution_count": null
    }
  ],
  "metadata": {
    "kernelspec": {
      "display_name": "Python 3 (ipykernel)",
      "language": "python",
      "name": "python3"
    },
    "language_info": {
      "codemirror_mode": {
        "name": "ipython",
        "version": 3
      },
      "file_extension": ".py",
      "mimetype": "text/x-python",
      "name": "python",
      "nbconvert_exporter": "python",
      "pygments_lexer": "ipython3",
      "version": "3.11.0"
    }
  }
}